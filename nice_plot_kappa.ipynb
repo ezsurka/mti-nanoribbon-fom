{
 "cells": [
  {
   "cell_type": "markdown",
   "id": "bb0304b8-c6a2-4910-a5cb-79e1b746bcbc",
   "metadata": {},
   "source": [
    "## plot"
   ]
  },
  {
   "cell_type": "code",
   "execution_count": null,
   "id": "a1c5626d-e116-4bc6-beb3-7a12e84a97f9",
   "metadata": {},
   "outputs": [],
   "source": [
    "import matplotlib.pyplot as plt"
   ]
  },
  {
   "cell_type": "code",
   "execution_count": null,
   "id": "c7011018-6804-430e-a65d-d0205e4760ed",
   "metadata": {},
   "outputs": [],
   "source": [
    "import numpy as np"
   ]
  },
  {
   "cell_type": "code",
   "execution_count": null,
   "id": "5c6beb67-9da4-4ceb-b4dc-12c9763071a8",
   "metadata": {},
   "outputs": [],
   "source": [
    "plt.style.use(['default', './paper.mplstyle'])"
   ]
  },
  {
   "cell_type": "code",
   "execution_count": null,
   "id": "03b3de9e-ef00-4f2b-9ae2-4625b076ca2f",
   "metadata": {},
   "outputs": [],
   "source": [
    "from matplotlib.patches import Arrow\n",
    "from matplotlib.collections import LineCollection\n",
    "from matplotlib.colors import LinearSegmentedColormap"
   ]
  },
  {
   "cell_type": "code",
   "execution_count": null,
   "id": "849120ae-c656-4cd0-80fa-197f84aab5fd",
   "metadata": {},
   "outputs": [],
   "source": [
    "D=[0,-10]\n",
    "m1=15\n",
    "m0=-0.01\n",
    "Mz=0.04\n",
    "v=3\n",
    "k=0.03\n",
    "W=500\n",
    "\n",
    "fig, ax = plt.subplots(2,2, figsize=(3.5,3.25),layout = 'constrained')\n",
    "fig.get_layout_engine().set(w_pad=0.0, h_pad=0.02, wspace=0.0, hspace=0.0)\n",
    "ks = np.linspace(-k,k,200)\n",
    "ax[0,0].plot([-1,1],[0,0],\"darkgrey\",ls=\"-\",lw=.5);\n",
    "ax[0,1].plot([-1,1],[0,0],\"darkgrey\",ls=\"-\",lw=.5);\n",
    "ax[0,0].plot([0,0],[-1,1],\"darkgrey\",ls=\"-\",lw=.5);\n",
    "ax[0,1].plot([0,0],[-1,1],\"darkgrey\",ls=\"-\",lw=.5);\n",
    "ax[1,0].plot([-1,1],[0,0],\"darkgrey\",ls=\"-\",lw=.5);\n",
    "ax[1,0].plot([0,0],[-1,1],\"darkgrey\",ls=\"-\",lw=.5);\n",
    "ax[1,1].plot([-1,1],[1,1],\"darkgrey\",ls=\"-\",lw=.5);\n",
    "ax[1,1].plot([0,0],[-10,10],\"darkgrey\",ls=\"-\",lw=.5);\n",
    "scale=2\n",
    "\n",
    "Colorsp = [\"tab:red\",\"tab:blue\",\"tab:purple\",\"tab:brown\"]\n",
    "Marker = [\"o\",\"D\",\"s\",\"v\"]\n",
    "ax0 = ax[0,0].twinx()\n",
    "ax1 = ax[0,1].twinx()\n",
    "\n",
    "subband_s=np.pi*v/W\n",
    "hyb_gap = np.sqrt(m0**2+subband_s**2)\n",
    "\n",
    "kappa_sym  = (m0+Mz)/v*np.sqrt(1-D[0]**2/m1**2)-D[0]*ks/m1-m1/v*np.sqrt(1-D[0]**2/m1**2)*ks**2\n",
    "kappa_asym = (m0+Mz)/v*np.sqrt(1-D[1]**2/m1**2)-D[1]*ks/m1-m1/v*np.sqrt(1-D[1]**2/m1**2)*ks**2\n",
    "k_divergence_sym  = np.sqrt((m0 + Mz)/m1)\n",
    "k_divergence_asym = np.sqrt(1 - D[1]**2/m1**2)*m1*(m0 + Mz)/(D[1]*v)\n",
    "\n",
    "ax[0,0].plot(ks[abs(ks)<k_divergence_sym],.1*np.array(1/kappa_sym)[abs(ks)<k_divergence_sym],\"-\",c=\"k\")\n",
    "ax[0,1].plot(ks[ks>k_divergence_asym*.7],.1*np.array(1/kappa_asym)[ks>k_divergence_asym*.7],\"-\",c=\"k\")\n",
    "ax[0,1].set_yticks(np.arange(0,60,15),[\"\"]*4)\n",
    "ax[0,0].set_yticks(np.arange(0,60,15),np.arange(0,60,15),color=\"k\")\n",
    "ax[0,0].set_ylim(-30,30); ax[0,1].set_ylim(-30,30)\n",
    "ax[0,0].set_ylabel(\"$\\\\tilde{\\\\lambda}^+$ [nm]\",color=\"k\",labelpad=0);\n",
    "ax[0,0].set_title(\"$D=0$\"); ax[0,1].set_title(\"$D\\\\neq0$\");\n",
    "ax[0,0].set_xlabel(\"$k_x$ [$1/\\\\AA$]\",labelpad=0); ax[0,1].set_xlabel(\"$k_x$ [$1/\\\\AA$]\",labelpad=0);\n",
    "kpoints = [(m0+Mz)*(1+D[1]/m1)/(-v*np.sqrt(1-D[1]**2/m1**2)),0,(m0+Mz)*(D[1]/m1)/(-v*np.sqrt(1-D[1]**2/m1**2)),(m0+Mz)*(-1+D[1]/m1)/(-v*np.sqrt(1-D[1]**2/m1**2))]\n",
    "kpoint_labels = [\"$E_\\\\text{I}$\",\"$E_\\\\text{II}$\",\"$E_\\\\text{III}$\",\"$E_\\\\text{IV}$\"]\n",
    "for i in range(4):\n",
    "    kappa_kpoint = (m0+Mz)/v*np.sqrt(1-D[1]**2/m1**2)-D[1]*kpoints[i]/m1-m1/v*np.sqrt(1-D[1]**2/m1**2)*kpoints[i]**2\n",
    "    E_kpoint = -(m0+Mz)*D[1]/m1-v*np.sqrt(1-D[1]**2/m1**2)*kpoints[i]\n",
    "    ax[0,1].plot(kpoints[i],.1/kappa_kpoint,ms=3,color=Colorsp[i],marker=Marker[i]);\n",
    "    ax1.plot(kpoints[i],E_kpoint,ms=3,zorder=1,color=Colorsp[i],marker=Marker[i]);\n",
    "    ax1.text(kpoints[i]-[.008,.008,0.010,0.010][i],E_kpoint-.008,kpoint_labels[i],fontsize=8);\n",
    "\n",
    "caption = ['(a)','(b)','(c)','(d)']\n",
    "for i in range(2):\n",
    "    for j in range(2):\n",
    "        if j == 0:\n",
    "            sshift = -0.325\n",
    "        else:\n",
    "            sshift = -0.2\n",
    "        ax[i,j].text(\n",
    "            sshift, .985, \n",
    "            caption[i*2+j],\n",
    "            transform=ax[i,j].transAxes\n",
    "        )\n",
    "\n",
    "ax0.plot([-k,k],[-(Mz-abs(m0))]*2,\"--\",c=\"k\",lw=.5,label=\"$\\\\pm(M_z-|m_0|)$\",zorder=-1); ax1.plot([-k,k],[-(Mz-abs(m0))]*2,\"--\",c=\"k\",lw=.5,zorder=-1)\n",
    "ax0.plot([-k,k],[ (Mz-abs(m0))]*2,\"--\",c=\"k\",lw=.5,zorder=-1); ax1.plot([-k,k],[(Mz-abs(m0))]*2,\"--\",c=\"k\",lw=.5,zorder=-1)\n",
    "\n",
    "ax1.set_ylabel(\"$\\\\tilde{\\\\varepsilon}_\\\\mathrm{e}^+(k_x)$ [meV]\",c=\"green\",labelpad=0); \n",
    "prop = dict(arrowstyle=\"-|>,head_width=0.2,head_length=0.5\",\n",
    "                shrinkA=0,shrinkB=0,linewidth=.6)\n",
    "ax0.annotate(\"$E_\\\\mathrm{DP}^+$\",xy=(0,-(m0+Mz)*D[0]/m1),xytext=(k*.4,0.04), arrowprops=prop);\n",
    "ax1.annotate(\"$E_\\\\mathrm{DP}^+$\",xy=(0,-(m0+Mz)*D[1]/m1),xytext=(k*.4,0.04), arrowprops=prop);\n",
    "\n",
    "ax0.plot(ks,-(m0+Mz)*D[0]/m1-v*ks,\"-\",c=\"green\");\n",
    "ax1.plot(ks,-(m0+Mz)*D[1]/m1-v*np.sqrt(1-D[1]**2/m1**2)*ks,\"-\",c=\"green\",zorder=0);\n",
    "\n",
    "ax0.legend(loc=\"lower left\",frameon=True,fontsize=8);\n",
    "\n",
    "ax0.set_xticks([-.02,0,.02]); ax1.set_xticks([-.02,0,.02]);\n",
    "ax0.set_yticks(np.arange(-.09,.09,.03),[\"$\"+str(i)+\"$\" for i in np.arange(-90,90,30)],c=\"green\"); ax1.set_yticks(np.arange(-.09,.09,.03),[\"$\"+str(i)+\"$\" for i in np.arange(-90,90,30)],c=\"green\");\n",
    "ax0.set_yticklabels([]);\n",
    "ax0.set_xlim(-k,k);ax[0,1].set_xlim(-k,k);\n",
    "ax0.set_ylim(-(Mz-abs(m0))*scale,(Mz-abs(m0))*scale); ax1.set_ylim(-(Mz-abs(m0))*scale,(Mz-abs(m0))*scale);\n",
    "\n",
    "kappa_anal1 = (m0+Mz)/v*np.sqrt(1-D[1]**2/m1**2)\n",
    "kappa_anal3 = (m0+Mz)/v*np.sqrt((m1-D[1])/(m1+D[1]))\n",
    "#ax1.plot([-1,1],[.1/kappa_anal1]*2,\"m--\")\n",
    "#ax1.plot(ks,.1/kappa_anal2,\"r-\")\n",
    "#ax1.plot([-1,1],[.1/kappa_anal3]*2,\"g--\")\n",
    "#ax1.plot([(m0+Mz)/(v*np.sqrt(1-D[1]**2/m1**2))*(1-D[1]/m1)]*2,[-100,100],\"b--\")\n",
    "\n",
    "a = np.linspace(-1,1,200)\n",
    "\n",
    "Mz=2\n",
    "m0=-1\n",
    "\n",
    "sstop = Mz-abs(m0)\n",
    "DP = -a*(m0+Mz)\n",
    "ssmid = 0\n",
    "ssbot = -Mz+abs(m0)\n",
    "\n",
    "l_sstop = 1/(np.sqrt((1+a)/(1-a)))\n",
    "l_DP    = 1/np.sqrt(1-a**2)\n",
    "l_ssmid = np.sqrt(1-a**2)\n",
    "l_ssbot = 1/(np.sqrt((1-a)/(1+a)))\n",
    "\n",
    "ax[1,1].plot(a,l_sstop,\"-\",label=\"$\\\\lambda$ Gap top\",color=Colorsp[0])\n",
    "ax[1,1].plot(a,l_DP,\"-\",label=\"$\\\\lambda$ DP\",color=Colorsp[1])\n",
    "ax[1,1].plot(a,l_ssmid,\"-\",label=\"$\\\\lambda$ Gap mid\",color=Colorsp[2])\n",
    "ax[1,1].plot(a,l_ssbot,\"-\",label=\"$\\\\lambda$ Gap bot\",color=Colorsp[3])\n",
    "\n",
    "\n",
    "#ax[1,1].plot(a,np.sqrt(l_sstop*l_ssmid),\"--\",c=\"darkblue\")\n",
    "#ax[1,1].plot(a,np.sqrt(l_ssbot*l_ssmid),\"--\",c=\"teal\")\n",
    "\n",
    "ax[1,1].set_xlabel(\"$D/m_1$\",labelpad=0)\n",
    "ax[1,1].set_ylabel(\"$\\\\tilde{\\\\lambda}^+(m_0+M_z)/v_\\\\text{F}$\")\n",
    "ax[1,1].set_xticks([-1,-.5,0,.5,1]);\n",
    "ax[1,1].set_xlim(-1,1);\n",
    "ax[1,1].set_ylim(0,2.8);\n",
    "\n",
    "for i in range(2):\n",
    "    ax[1,i].plot([0,0],[-1,10],\"k\",ls=\":\",lw=.5);\n",
    "    ax[1,i].plot([D[1]/m1]*2,[-1,10],\"k\",ls=\":\",lw=.5);\n",
    "ax[1,0].text(.05,0.1,\"(a)\");\n",
    "ax[1,0].text(D[1]/m1+.05,0.1,\"(b)\");\n",
    "ax[1,1].text(.05,2.5,\"(a)\");\n",
    "ax[1,1].text(D[1]/m1+.05,2.5,\"(b)\");\n",
    "\n",
    "kpoints_l = [[1/(np.sqrt((1+a)/(1-a))),1/np.sqrt(1-a**2),np.sqrt(1-a**2),1/(np.sqrt((1-a)/(1+a)))] for a in [D[1]/m1]][0]\n",
    "shiftss = [-.15,-.24,-.31,-.3]\n",
    "for i in range(4):\n",
    "    ax[1,1].plot(D[1]/m1,kpoints_l[i],ms=3,color=Colorsp[i],marker=Marker[i]);\n",
    "    ax[1,1].text(D[1]/m1+0.1,kpoints_l[i]-0.12,kpoint_labels[i],zorder=2);\n",
    "\n",
    "cmap = LinearSegmentedColormap.from_list(\"\", [\"tab:blue\",\"tab:purple\",\"tab:red\"])\n",
    "\n",
    "spin_pol = -a\n",
    "points = np.array([a,spin_pol]).T.reshape(-1, 1, 2)\n",
    "segments = np.concatenate([points[:-1], points[1:]], axis=1)\n",
    "norm = plt.Normalize(-1,1)\n",
    "\n",
    "lc = LineCollection(segments, cmap=cmap, norm=norm)\n",
    "lc.set_array(spin_pol)\n",
    "ax[1,0].add_collection(lc)\n",
    "\n",
    "ax[1,0].set_xlabel(\"$D/m_1$\",labelpad=0)\n",
    "ax[1,0].set_ylabel(\"$\\\\langle \\\\psi^+|\\\\sigma_z|\\\\psi^+\\\\rangle$\",labelpad=0)\n",
    "ax[1,0].set_xticks([-1,-.5,0,.5,1]);\n",
    "ax[1,0].set_xlim(-1,1);\n",
    "ax[1,0].set_ylim(-1,1);\n",
    "#ax[1].text(0.05,.9,\"$Dm_1<0$,\\nStrong asymmetry\")\n",
    "#ax[1].text(1.55,.9,\"$Dm_1>0$,\\nStrong asymmetry\")\n",
    "#ax[1].legend(fontsize=8)\n",
    "\n",
    "plt.savefig(\"kappas.png\")\n",
    "plt.savefig(\"kappas.pdf\",bbox_inches='tight')"
   ]
  },
  {
   "cell_type": "code",
   "execution_count": null,
   "id": "979c0932-36af-41a9-8ab4-2a099a9d9d8b",
   "metadata": {},
   "outputs": [],
   "source": [
    "#plt.plot(nu,np.sqrt(2-nu))\n",
    "#plt.plot(nu,1/np.sqrt(2-nu))\n",
    "\n",
    "plt.plot(nu,np.sqrt(nu))\n",
    "plt.plot(nu,1/np.sqrt(nu))"
   ]
  },
  {
   "cell_type": "code",
   "execution_count": null,
   "id": "d832798d-a2de-4fb1-90b5-ba91ea037c9f",
   "metadata": {},
   "outputs": [],
   "source": [
    "#### [[1/(np.sqrt((1+g)/(1-g))),1/np.sqrt(1-g**2),np.sqrt(1-g**2),1/(np.sqrt((1-g)/(1+g)))] for g in [D[1]/m1]][0]"
   ]
  },
  {
   "cell_type": "code",
   "execution_count": null,
   "id": "6abaa623-e17f-4343-b2a4-e7c4aa4ce3a4",
   "metadata": {},
   "outputs": [],
   "source": [
    "(m0+Mz)/(v*np.sqrt(1-D[1]**2/m1**2))*(1-D[1]/m1)"
   ]
  },
  {
   "cell_type": "code",
   "execution_count": null,
   "id": "00614f1f-a8d4-4d24-9668-2b99c2b267b5",
   "metadata": {},
   "outputs": [],
   "source": [
    "np.sqrt(1-D[1]**2/m1**2)"
   ]
  },
  {
   "cell_type": "code",
   "execution_count": null,
   "id": "aaceebcb-f2f5-47c8-bf49-279e002c780d",
   "metadata": {},
   "outputs": [],
   "source": [
    "kappa_anal1"
   ]
  },
  {
   "cell_type": "code",
   "execution_count": null,
   "id": "64c410e0-6fd9-4ba4-88bb-afde05c3a75d",
   "metadata": {},
   "outputs": [],
   "source": [
    "4*(m0+Mz)*m1/(v**2*(m1**2/D[1]**2-1))"
   ]
  },
  {
   "cell_type": "code",
   "execution_count": null,
   "id": "9e62fbab-1c65-4a9b-8a06-8a3df01aed57",
   "metadata": {},
   "outputs": [],
   "source": [
    "1/kappa_anal"
   ]
  },
  {
   "cell_type": "code",
   "execution_count": null,
   "id": "2d92f22a-10e0-4a52-a854-5104c0fee184",
   "metadata": {},
   "outputs": [],
   "source": [
    "m0_s = np.linspace(0.01,.05,100)\n",
    "Ds = np.linspace(-14,-1,100)\n",
    "\n",
    "m0_t = 0.01\n",
    "\n",
    "Mz_t = 0.01\n",
    "\n",
    "m0_s, Ds = np.meshgrid(m0_s,Ds)\n",
    "\n",
    "#plt.plot(m0_s,0.01*np.exp(-W*(m0_s-Mz_t)*np.sqrt(1-D[1]**2/m1**2)/v)/(-Mz_t*D[1]/m1))\n",
    "plt.contourf(m0_s, Ds, np.log(-m1/(Ds*m0_s)*(0.01*np.exp(-W*m0_s*np.sqrt(1-Ds**2/m1**2)/v))),levels=50)\n",
    "plt.colorbar()"
   ]
  },
  {
   "cell_type": "code",
   "execution_count": null,
   "id": "64122260-e57a-4003-bf05-12029e195510",
   "metadata": {},
   "outputs": [],
   "source": []
  },
  {
   "cell_type": "code",
   "execution_count": null,
   "id": "a2bb128f-f907-4ee0-941c-d51a7e389c1b",
   "metadata": {},
   "outputs": [],
   "source": []
  },
  {
   "cell_type": "code",
   "execution_count": null,
   "id": "b99b6795-84d1-4acf-aec5-1742ebf826f5",
   "metadata": {},
   "outputs": [],
   "source": []
  },
  {
   "cell_type": "code",
   "execution_count": null,
   "id": "93624d0d-a221-4c90-8b2d-04ec6e5c3fd3",
   "metadata": {},
   "outputs": [],
   "source": [
    "g = np.linspace(-.9,.9,200)\n",
    "\n",
    "Mz=.5\n",
    "m0=1\n",
    "\n",
    "sstop = m0-Mz\n",
    "DP = -g*(m0+Mz)\n",
    "ssmid = 0\n",
    "ssbot = -m0+Mz\n",
    "\n",
    "l_sstop = 1/(m0*np.sqrt((1+g)/(1-g))+Mz*np.sqrt((1-g)/(1+g)))\n",
    "l_DP    = 1/((m0+Mz)*np.sqrt(1-g**2))\n",
    "l_ssmid = np.sqrt(1-g**2)/(m0+Mz)\n",
    "l_ssbot = 1/(m0*np.sqrt((1-g)/(1+g))+Mz*np.sqrt((1+g)/(1-g)))"
   ]
  },
  {
   "cell_type": "code",
   "execution_count": null,
   "id": "2bab5867-9c9c-4dd0-924e-9449c1bb3ba6",
   "metadata": {},
   "outputs": [],
   "source": [
    "fig, ax = plt.subplots(1,2, figsize=(3.5,2.5),layout = 'constrained',sharex=True)\n",
    "fig.get_layout_engine().set(w_pad=0.01, h_pad=0.0, wspace=0.0, hspace=0.0)\n",
    "\n",
    "ax[0].plot(nu,sstop*np.ones(len(nu)),label=\"Gap top\")\n",
    "ax[0].plot(nu,DP*np.ones(len(nu)),label=\"DP\")\n",
    "ax[0].plot(nu,ssmid*np.ones(len(nu)),label=\"Gap mid\")\n",
    "ax[0].plot(nu,ssbot*np.ones(len(nu)),label=\"Gap bot\")\n",
    "ax[0].legend(fontsize=8,loc=\"upper right\")\n",
    "ax[0].set_xlabel(\"$D/m_1$\")\n",
    "ax[0].set_ylabel(\"$E/m_0$\")\n",
    "ax[0].set_xticks([0,1,2],[-1,0,1])\n",
    "\n",
    "ax[1].plot(nu,l_sstop,label=\"$\\\\lambda$ Gap top\")\n",
    "ax[1].plot(nu,l_DP,label=\"$\\\\lambda$ DP\")\n",
    "ax[1].plot(nu,l_ssmid,label=\"$\\\\lambda$ Gap mid\")\n",
    "ax[1].plot(nu,l_ssbot,label=\"$\\\\lambda$ Gap bot\")\n",
    "ax[1].set_xlabel(\"$D/m_1$\")\n",
    "ax[1].set_ylabel(\"$\\tilde{\\lambda}^+m_0/v_\\text{F}$\")\n",
    "ax[1].set_xticks([0,1,2],[-1,0,1])\n",
    "\n",
    "fig.suptitle(\"QSHI, $M_z=\"+str(Mz)+\"m_0$\")\n",
    "#ax[1].text(0.05,.9,\"$Dm_1<0$,\\nStrong asymmetry\")\n",
    "#ax[1].text(1.55,.9,\"$Dm_1>0$,\\nStrong asymmetry\")\n",
    "#ax[1].legend(fontsize=8)"
   ]
  },
  {
   "cell_type": "code",
   "execution_count": null,
   "id": "0a920a2b-84c3-440e-a1ad-6eee3e2cc9bb",
   "metadata": {},
   "outputs": [],
   "source": [
    "g = np.linspace(-.9,.9,200)\n",
    "\n",
    "Mz=2\n",
    "m0=1\n",
    "\n",
    "sstop = Mz-m0\n",
    "DP = -g*(m0+Mz)\n",
    "ssmid = 0\n",
    "ssbot = -Mz+m0\n",
    "\n",
    "l_sstop = 1/(m0*np.sqrt((1-g)/(1+g))+Mz*np.sqrt((1+g)/(1-g)))\n",
    "l_DP    = 1/((m0+Mz)*np.sqrt(1-g**2))\n",
    "l_ssmid = np.sqrt(1-g**2)/(m0+Mz)\n",
    "l_ssbot = 1/(m0*np.sqrt((1+g)/(1-g))+Mz*np.sqrt((1-g)/(1+g)))"
   ]
  },
  {
   "cell_type": "code",
   "execution_count": null,
   "id": "2dcb0144-7837-492e-8705-32aab6706ac6",
   "metadata": {},
   "outputs": [],
   "source": [
    "fig, ax = plt.subplots(1,2, figsize=(3.5,2.5),layout = 'constrained',sharex=True)\n",
    "fig.get_layout_engine().set(w_pad=0.01, h_pad=0.0, wspace=0.0, hspace=0.0)\n",
    "\n",
    "ax[0].plot(nu,sstop*np.ones(len(nu)),label=\"Gap top\")\n",
    "ax[0].plot(nu,DP*np.ones(len(nu)),label=\"DP\")\n",
    "ax[0].plot(nu,ssmid*np.ones(len(nu)),label=\"Gap mid\")\n",
    "ax[0].plot(nu,ssbot*np.ones(len(nu)),label=\"Gap bot\")\n",
    "ax[0].legend(fontsize=8,loc=\"upper right\")\n",
    "ax[0].set_xlabel(\"$D/m_1$\")\n",
    "ax[0].set_ylabel(\"$E/m_0$\")\n",
    "ax[0].set_xticks([0,1,2],[-1,0,1])\n",
    "\n",
    "ax[1].plot(nu,l_sstop,label=\"$\\\\lambda$ Gap top\")\n",
    "ax[1].plot(nu,l_DP,label=\"$\\\\lambda$ DP\")\n",
    "ax[1].plot(nu,l_ssmid,label=\"$\\\\lambda$ Gap mid\")\n",
    "ax[1].plot(nu,l_ssbot,label=\"$\\\\lambda$ Gap bot\")\n",
    "ax[1].set_xlabel(\"$D/m_1$\")\n",
    "ax[1].set_ylabel(\"$\\\\tilde{\\\\lambda}^+m_0/v_\\\\text{F}$\")\n",
    "ax[1].set_xticks([0,1,2],[-1,0,1])\n",
    "\n",
    "fig.suptitle(\"QAHI, $M_z=\"+str(Mz)+\"m_0$\")\n",
    "#ax[1].text(0.05,.9,\"$Dm_1<0$,\\nStrong asymmetry\")\n",
    "#ax[1].text(1.55,.9,\"$Dm_1>0$,\\nStrong asymmetry\")\n",
    "#ax[1].legend(fontsize=8)"
   ]
  },
  {
   "cell_type": "markdown",
   "id": "abd6e78b-90e6-4179-8dd8-8121807d051f",
   "metadata": {},
   "source": [
    "## Condition of existence of the single subband regime"
   ]
  },
  {
   "cell_type": "code",
   "execution_count": null,
   "id": "cdafdf3d-463b-406c-81bf-dc6d90abe04e",
   "metadata": {},
   "outputs": [],
   "source": [
    "Mz_m0_qshi = np.linspace(0,1,100)\n",
    "Mz_m0_qahi = np.linspace(1,5,100)\n",
    "alpha_qshi = -(1-Mz_m0_qshi)/(1+Mz_m0_qshi) #these are the exact expressions\n",
    "alpha_qahi = (1-Mz_m0_qahi)/(1+Mz_m0_qahi)"
   ]
  },
  {
   "cell_type": "code",
   "execution_count": null,
   "id": "f0d1e9d9-221f-4697-9711-ae9bb3af3bfc",
   "metadata": {},
   "outputs": [],
   "source": [
    "plt.plot(alpha_qshi[abs(alpha_qshi)<1],Mz_m0_qshi[abs(alpha_qshi)<1])\n",
    "plt.plot(alpha_qahi[abs(alpha_qahi)<1],Mz_m0_qahi[abs(alpha_qahi)<1])\n",
    "#plt.plot(-alpha_qshi[abs(alpha_qshi)<1],Mz_m0_qshi[abs(alpha_qshi)<1])\n",
    "#plt.plot(-alpha_qahi[abs(alpha_qahi)<1],Mz_m0_qahi[abs(alpha_qahi)<1])\n",
    "#plt.plot(Mz_m0_qahi[(1<=Mz_m0_qahi)&(Mz_m0_qahi<=3)],alpha[(1<=Mz_m0_qahi)&(Mz_m0_qahi<=3)])\n",
    "plt.xlabel(\"$D/m_1$\");\n",
    "plt.ylabel(\"$M_z/m_0$\");"
   ]
  },
  {
   "cell_type": "code",
   "execution_count": null,
   "id": "3c38a439-25c4-4472-9817-0dc148ae294c",
   "metadata": {},
   "outputs": [],
   "source": []
  }
 ],
 "metadata": {
  "kernelspec": {
   "display_name": "Python 3.10 (kwant-latest)",
   "language": "python",
   "name": "base"
  },
  "language_info": {
   "codemirror_mode": {
    "name": "ipython",
    "version": 3
   },
   "file_extension": ".py",
   "mimetype": "text/x-python",
   "name": "python",
   "nbconvert_exporter": "python",
   "pygments_lexer": "ipython3",
   "version": "3.10.6"
  }
 },
 "nbformat": 4,
 "nbformat_minor": 5
}
