{
 "cells": [
  {
   "cell_type": "code",
   "execution_count": null,
   "id": "dc0b3daf-4be4-4dfd-b3e6-a009d2258aa1",
   "metadata": {},
   "outputs": [],
   "source": [
    "import ipyparallel\n",
    "import socket\n",
    "import os\n",
    "import getpass\n",
    "\n",
    "import numpy as np\n",
    "import tools\n",
    "import funcs\n",
    "from operator import itemgetter\n",
    "import adaptive\n",
    "adaptive.notebook_extension()\n",
    "import systems\n",
    "import matplotlib.pyplot as plt\n",
    "import kwant"
   ]
  },
  {
   "cell_type": "code",
   "execution_count": null,
   "id": "54af4533-8bae-4fa3-9a84-b81766b6b3c8",
   "metadata": {},
   "outputs": [],
   "source": [
    "client = ipyparallel.Client(\n",
    "    profile='slurm2104', \n",
    "    sshserver='iffslurm.iff.kfa-juelich.de'\n",
    ")\n",
    "client[:].use_cloudpickle()\n",
    "\n",
    "ids = client.ids\n",
    "hosts = client[:].apply_sync(socket.gethostname)\n",
    "print(ids)\n",
    "\n",
    "notbookcwd = os.getcwd()\n",
    "clustercwd = notbookcwd.replace('Home', 'Users/' + getpass.getuser())\n",
    "print(len(client[:].apply_sync(os.chdir, clustercwd)))"
   ]
  },
  {
   "cell_type": "code",
   "execution_count": null,
   "id": "a87af6a0-5f3a-4c46-99d6-285bac78c501",
   "metadata": {},
   "outputs": [],
   "source": [
    "client2 = ipyparallel.Client(\n",
    "    profile='slurm2102', \n",
    "    sshserver='iffslurm.iff.kfa-juelich.de'\n",
    ")\n",
    "client2[:].use_cloudpickle()\n",
    "\n",
    "ids = client2.ids\n",
    "hosts = client2[:].apply_sync(socket.gethostname)\n",
    "print(ids)\n",
    "\n",
    "notbookcwd = os.getcwd()\n",
    "clustercwd = notbookcwd.replace('Home', 'Users/' + getpass.getuser())\n",
    "print(len(client2[:].apply_sync(os.chdir, clustercwd)))"
   ]
  },
  {
   "cell_type": "code",
   "execution_count": null,
   "id": "ffbece16-c0ae-480d-9b33-aac0d2f1b85e",
   "metadata": {},
   "outputs": [],
   "source": [
    "def reload():\n",
    "    import importlib\n",
    "    import funcs\n",
    "    import tools\n",
    "    import systems\n",
    "    \n",
    "    importlib.reload(funcs)\n",
    "    importlib.reload(tools)\n",
    "    importlib.reload(systems)\n",
    "reload()"
   ]
  },
  {
   "cell_type": "code",
   "execution_count": null,
   "id": "9d41efb1-3e8e-4b85-b1ec-bc24119418b8",
   "metadata": {},
   "outputs": [],
   "source": [
    "np.random.default_rng(0).uniform(-.05,.05,None)"
   ]
  },
  {
   "cell_type": "markdown",
   "id": "234a1909-bd57-4fe6-8fa0-d4d1d1b8a2b9",
   "metadata": {},
   "source": [
    "## First runner"
   ]
  },
  {
   "cell_type": "code",
   "execution_count": null,
   "id": "4f56250e-85cf-44fe-9110-8deda87f75ba",
   "metadata": {},
   "outputs": [],
   "source": [
    "_ = client[:].apply_sync(reload)"
   ]
  },
  {
   "cell_type": "code",
   "execution_count": null,
   "id": "9b1521c5-e555-4be8-9528-b53442fb9018",
   "metadata": {},
   "outputs": [],
   "source": [
    "m0  = [-0.017, 0.006]\n",
    "m1  = [ 16.35, 13.83]\n",
    "D   = [-13.31,-13.38]\n",
    "v_F = [ 1.920, 2.887]\n",
    "m_zs =[  0.02, 0.02]\n",
    "mus = [0.0135, 0.001]\n",
    "Smag_imp = [0.01,0.01]\n",
    "\n",
    "j = 0\n",
    "\n",
    "qa = tools.QuickAdptive(\n",
    "    funcs.finite_spectrum,\n",
    "    fname_prefix='data_learner_',\n",
    "    learner_bounds_names=['Smag_imp'],\n",
    "    arg_picker=itemgetter('Es_mean'),\n",
    "    a=[10],\n",
    "    a_z=[10],\n",
    "    L=[30000],\n",
    "    W=[500],\n",
    "    T=[1],\n",
    "    delta=[1e-3],\n",
    "    mu=[mus[j]-(m0[j]+m_zs[j])*D[j]/m1[j]],\n",
    "    Smag_imp=[0,0.02],\n",
    "    m_z=[m_zs[j]],\n",
    "    correlation_length=[20],\n",
    "    n_av=[20],\n",
    "    k=[30],\n",
    "    sum=[True],\n",
    "    m0=[m0[j]],\n",
    "    m1=[m1[j]],\n",
    "    D=[D[j]],\n",
    "    v_F=[v_F[j]]\n",
    ")"
   ]
  },
  {
   "cell_type": "code",
   "execution_count": null,
   "id": "54250615-30ba-41a0-97fe-6576cae31e9e",
   "metadata": {},
   "outputs": [],
   "source": [
    "qa = tools.QuickAdptive(\n",
    "    funcs.finite_spectrum_deltamu,\n",
    "    fname_prefix='data_learner_',\n",
    "    learner_bounds_names=['Smag_imp'],\n",
    "    arg_picker=itemgetter('Es_mean'),\n",
    "    a=[10],\n",
    "    a_z=[10],\n",
    "    L=[30000],\n",
    "    W=[500],\n",
    "    T=[1],\n",
    "    delta=[1e-3],\n",
    "    mu=[-(m0[j]+m_zs[j])*D[j]/m1[j]],\n",
    "    deltamu=[.05],\n",
    "    Smag_imp=[0,0.02],\n",
    "    m_z=[m_zs[j]],\n",
    "    correlation_length=[20],\n",
    "    n_av=[20],\n",
    "    k=[30],\n",
    "    sum=[True],\n",
    "    m0=[m0[j]],\n",
    "    m1=[m1[j]],\n",
    "    D=[D[j]],\n",
    "    v_F=[v_F[j]]\n",
    ")"
   ]
  },
  {
   "cell_type": "code",
   "execution_count": null,
   "id": "dc600f34-9618-4c6b-8ace-1e07cb50b66f",
   "metadata": {},
   "outputs": [],
   "source": [
    "executor = client.executor()\n",
    "job = executor.submit(funcs.finite_spectrum, a=4, a_z=4, L=1000, T=1, W=500, delta=0.001,mu=0.01, Smag_imp=0.01, m_z=0, correlation_length=20, n_av=1, k=30, sum=True, m0=-0.017, m1=16.35, D=-13.31, v_F=1.920)"
   ]
  },
  {
   "cell_type": "code",
   "execution_count": null,
   "id": "f7549db0-e7fe-4ba9-92c3-e1733a99af99",
   "metadata": {},
   "outputs": [],
   "source": [
    "res = job.result()"
   ]
  },
  {
   "cell_type": "code",
   "execution_count": null,
   "id": "5b07b8e4-bfec-48a7-985d-e43916f53ebf",
   "metadata": {},
   "outputs": [],
   "source": [
    "qa.load('./data/finite_lenght_spectrum')"
   ]
  },
  {
   "cell_type": "code",
   "execution_count": null,
   "id": "ed7d6864-90dd-4072-a618-330fa7922588",
   "metadata": {},
   "outputs": [],
   "source": [
    "import adaptive\n",
    "adaptive.notebook_extension()\n",
    "\n",
    "qa.runn(\n",
    "    goal=lambda learner: learner.npoints > 13,\n",
    "    executor=client,\n",
    "    periodic_saving_folder='./data/finite_lenght_spectrum',\n",
    "    interval=60*60\n",
    ")"
   ]
  },
  {
   "cell_type": "code",
   "execution_count": null,
   "id": "ddbd7d75-7118-4353-87c2-3a33f75b9b11",
   "metadata": {},
   "outputs": [],
   "source": [
    "qa.runner.live_info()"
   ]
  },
  {
   "cell_type": "code",
   "execution_count": null,
   "id": "1dac81fa-5db7-461d-a1b0-01513fa78e0b",
   "metadata": {},
   "outputs": [],
   "source": [
    "qa.save('./data/finite_lenght_spectrum')"
   ]
  },
  {
   "cell_type": "code",
   "execution_count": null,
   "id": "c9747757-d4b7-4691-9977-9aedc5370c9b",
   "metadata": {},
   "outputs": [],
   "source": [
    "Es_k0 = np.array([-0.07037036, -0.06908563, -0.06347416, -0.06312472, -0.05727571,\n",
    "       -0.0559619 , -0.05043639, -0.04934656, -0.04397647, -0.04289999,\n",
    "       -0.04057224, -0.03460804, -0.02549919, -0.01550431, -0.0019264 ,\n",
    "        0.00679332,  0.01989821,  0.03389364,  0.03722355,  0.04465   ,\n",
    "        0.04897276,  0.05569907,  0.06518542,  0.06941859,  0.0825615 ])"
   ]
  },
  {
   "cell_type": "code",
   "execution_count": null,
   "id": "0548cd36-4cc4-4a6f-b3da-940a80e3f8a4",
   "metadata": {},
   "outputs": [],
   "source": [
    "def even_or_odd(mu_test):\n",
    "    nu_bands = (np.sum(Es_k0[Es_k0<0] > mu_test)+np.sum(Es_k0[Es_k0>0] < mu_test))\n",
    "    if nu_bands != 0:\n",
    "        return nu_bands%2\n",
    "    else:\n",
    "        return -1"
   ]
  },
  {
   "cell_type": "code",
   "execution_count": null,
   "id": "f46669cb-eee9-46d2-937b-36e121998adf",
   "metadata": {},
   "outputs": [],
   "source": [
    "mus_run = np.array([np.random.default_rng(i).uniform(-.05,.05,None) for i in range(200)])"
   ]
  },
  {
   "cell_type": "code",
   "execution_count": null,
   "id": "2a32ab3f-4260-4bff-82bc-ed2475483d02",
   "metadata": {},
   "outputs": [],
   "source": [
    "mus_run_parity = np.array([even_or_odd(mu) for mu in mus_run])"
   ]
  },
  {
   "cell_type": "code",
   "execution_count": null,
   "id": "598247c1-885b-42f8-88ca-148d9d54cc91",
   "metadata": {},
   "outputs": [],
   "source": [
    "even = np.bool8(mus_run_parity) & (mus_run_parity!=-1)\n",
    "odd = ~np.bool8(mus_run_parity) & (mus_run_parity!=-1)\n",
    "no_states = mus_run_parity==-1"
   ]
  },
  {
   "cell_type": "code",
   "execution_count": null,
   "id": "7714912f-9052-4c3c-bca0-143a6f715e7b",
   "metadata": {},
   "outputs": [],
   "source": [
    "for e in Es_k0:\n",
    "    plt.plot([-.01,.01],[e]*2,\"k-\")\n",
    "plt.plot(np.zeros(len(mus_run[even])), mus_run[even], \"rx\")\n",
    "plt.plot(np.zeros(len(mus_run[odd])), mus_run[odd], \"bx\")\n",
    "plt.plot(np.zeros(len(mus_run[no_states])), mus_run[no_states], \"kx\")\n",
    "\n",
    "plt.ylim(-.05,.05)"
   ]
  },
  {
   "cell_type": "code",
   "execution_count": null,
   "id": "0e0f8ee7-6994-4a29-b2cf-c4c373ba245e",
   "metadata": {},
   "outputs": [],
   "source": [
    "Data = qa.runner.learner.to_dataframe()['extra_data']\n",
    "data_to_plot = np.array([Data[i]['Es_mean'] for i in range(len(Data))])\n",
    "try: \n",
    "    qa.combos['Smag_imp']\n",
    "    xs = np.array(qa.runner.learner.to_dataframe()['x'])/1e4\n",
    "except:\n",
    "    xs = np.array(qa.runner.learner.to_dataframe()['x'])*1e3\n",
    "cutoff = .5e-3\n",
    "middle = 15\n",
    "std = []\n",
    "for i in range(len(Data)):\n",
    "    std.append( np.std(np.array([Data[i]['Es'][ii] for ii in range(20)]),axis=0))\n",
    "std = np.array(std)\n",
    "for i in range(len(std[0,:])):\n",
    "    if i == middle-1 or i == middle:\n",
    "        c = \"r\"\n",
    "    else:\n",
    "        c = \"k\"\n",
    "    plt.fill(np.append(xs,xs[::-1]),np.append(data_to_plot[:,i]-std[:,i],(data_to_plot[:,i]+std[:,i])[::-1]),color=c,alpha=.2)   \n",
    "\n",
    "plt.plot(xs,data_to_plot[:,:middle-1],\"k-\");\n",
    "plt.plot(xs,data_to_plot[:,middle-1:middle+1],\"r-\");\n",
    "plt.plot(xs,data_to_plot[:,middle+1:],\"k-\");\n",
    "#plt.plot(xs[i],data_to_plot[np.where(data_to_plot>0)[0][0]],\"r_\",ms=10)\n",
    "#plt.plot(xs[i],data_to_plot[np.where(data_to_plot<0)[0][-1]],\"r_\",ms=10)\n",
    "plt.ylim(-cutoff,cutoff)\n",
    "plt.yticks(np.arange(-1e-3,1.1e-3,.2e-3),[np.round(i,1) for i in np.arange(-1,1.1,.2)]);\n",
    "#\n",
    "\n",
    "plt.ylabel(\"$E~[meV]$\");\n",
    "try: \n",
    "    qa.combos['Smag_imp']\n",
    "    plt.ylim(-1e-3,1e-3);\n",
    "    plt.xlim(.5,4);\n",
    "    plt.xlabel(\"$L~[nm]$\");\n",
    "    plt.savefig(\"L_\"+[\"NI\",\"QSHI\"][j]+\".png\")\n",
    "except:\n",
    "    plt.ylim(-.5e-3,.5e-3);\n",
    "    plt.xlim(0,20);\n",
    "    plt.xlabel(\"$\\delta \\mu~[meV]$\");\n",
    "    plt.savefig(\"Smag_imp_\"+[\"NI\",\"QSHI\"][j]+\".png\")"
   ]
  },
  {
   "cell_type": "code",
   "execution_count": null,
   "id": "744613b0-9ba0-46c6-b95c-dd70e63d1b38",
   "metadata": {},
   "outputs": [],
   "source": [
    "fig, ax = plt.subplots(1,2,figsize=(10,5),sharey=True,sharex=True,layout='constrained')\n",
    "\n",
    "Data = qa.runner.learner.to_dataframe()['extra_data']\n",
    "data_to_plot = np.array([Data[i]['Es_mean'] for i in range(len(Data))])\n",
    "try: \n",
    "    qa.combos['Smag_imp']\n",
    "    xs = np.array(qa.runner.learner.to_dataframe()['x'])/1e4\n",
    "except:\n",
    "    xs = np.array(qa.runner.learner.to_dataframe()['x'])*1e3\n",
    "cutoff = .5e-3\n",
    "std = []\n",
    "odd_std,even_std,no_states_std = [],[],[]\n",
    "odd_Es,even_Es,no_states_Es = [],[],[]\n",
    "middle = 15\n",
    "\n",
    "for i in range(len(Data)):\n",
    "    std.append( np.std(np.array([Data[i]['Es'][ii] for ii in range(20)]),axis=0))\n",
    "    odd_std.append( np.std(np.array([Data[i]['Es'][ii] for ii in np.arange(20)[odd]]),axis=0))\n",
    "    even_std.append( np.std(np.array([Data[i]['Es'][ii] for ii in np.arange(20)[even]]),axis=0))\n",
    "    no_states_std.append( np.std(np.array([Data[i]['Es'][ii] for ii in np.arange(20)[no_states]]),axis=0))\n",
    "    odd_Es.append( np.array([Data[i]['Es'][ii] for ii in np.arange(20)[odd]]))\n",
    "    even_Es.append( np.array([Data[i]['Es'][ii] for ii in np.arange(20)[even]]))\n",
    "    no_states_Es.append( np.array([Data[i]['Es'][ii] for ii in np.arange(20)[no_states]]))\n",
    "\n",
    "odd_std = np.array(odd_std)\n",
    "even_std = np.array(even_std)\n",
    "no_states_std = np.array(no_states_std)\n",
    "odd_Es = np.mean(np.array(odd_Es),axis=1)\n",
    "even_Es = np.mean(np.array(even_Es),axis=1)\n",
    "no_states_Es = np.mean(np.array(no_states_Es),axis=1)\n",
    "for i in range(len(odd_std[0,:])):\n",
    "    if i == middle-1 or i == middle:\n",
    "        c = \"r\"\n",
    "    else:\n",
    "        c = \"k\"\n",
    "    ax[0].fill(np.append(xs,xs[::-1]),np.append(odd_Es[:,i]-odd_std[:,i],(odd_Es[:,i]+odd_std[:,i])[::-1]),color=c,alpha=.2)   \n",
    "\n",
    "ax[0].plot(xs,odd_Es[:,:middle-1],\"k-\");\n",
    "ax[0].plot(xs,odd_Es[:,middle-1:middle+1],\"r-\");\n",
    "ax[0].plot(xs,odd_Es[:,middle+1:],\"k-\");\n",
    "\n",
    "for i in range(len(even_std[0,:])):\n",
    "    if i == middle-1 or i == middle:\n",
    "        c = \"r\"\n",
    "    else:\n",
    "        c = \"k\"\n",
    "    ax[1].fill(np.append(xs,xs[::-1]),np.append(even_Es[:,i]-even_std[:,i],(even_Es[:,i]+even_std[:,i])[::-1]),color=c,alpha=.2)   \n",
    "\n",
    "ax[1].plot(xs,even_Es[:,:middle-1],\"k-\");\n",
    "ax[1].plot(xs,even_Es[:,middle-1:middle+1],\"r-\");\n",
    "ax[1].plot(xs,even_Es[:,middle+1:],\"k-\");\n",
    "\n",
    "ax[0].set_ylim(-cutoff,cutoff)\n",
    "ax[0].set_yticks(np.arange(-1e-3,1.1e-3,.2e-3),[np.round(i,1) for i in np.arange(-1,1.1,.2)]);\n",
    "ax[1].set_yticks(np.arange(-1e-3,1.1e-3,.2e-3),[np.round(i,1) for i in np.arange(-1,1.1,.2)]);\n",
    "ax[0].set_xlim(0,20);\n",
    "\n",
    "ax[0].set_xlabel(\"$\\delta \\mu~[meV]$\"); ax[1].set_xlabel(\"$\\delta \\mu~[meV]$\");\n",
    "ax[0].set_ylabel(\"$E~[meV]$\"); \n",
    "ax[0].set_ylim(-.5e-3,.5e-3);\n",
    "\n",
    "ax[0].set_title(\"Odd nu. of bands\"); ax[1].set_title(\"Even nu. of bands\");\n",
    "try: \n",
    "    qa.combos['Smag_imp']\n",
    "    ax[0].set_xlim(.5,4);\n",
    "    ax[0].set_xlabel(\"$L~[nm]$\"); ax[1].set_xlabel(\"$L~[nm]$\");\n",
    "    plt.savefig(\"L_mu_\"+[\"NI\",\"QSHI\"][j]+\"2.png\")\n",
    "except:\n",
    "    ax[0].plot([[10,3][jj]]*2,[-1,1],\"k:\",zorder=-1)\n",
    "    ax[0].set_xlim(0,20);\n",
    "    ax[0].set_xlabel(\"$\\delta \\mu~[meV]$\"); ax[1].set_xlabel(\"$\\delta \\mu~[meV]$\");\n",
    "    plt.savefig(\"Smag_imp_mu_\"+[\"NI\",\"QSHI\"][j]+\"2.png\")"
   ]
  },
  {
   "cell_type": "markdown",
   "id": "bf0dfcf7-f0f6-4a0d-8474-29e2ee822d63",
   "metadata": {},
   "source": [
    "## Second runner"
   ]
  },
  {
   "cell_type": "code",
   "execution_count": null,
   "id": "48e0d4c9-b0e2-4402-9bff-e60d7fb911c3",
   "metadata": {},
   "outputs": [],
   "source": [
    "_ = client2[:].apply_sync(reload)"
   ]
  },
  {
   "cell_type": "code",
   "execution_count": null,
   "id": "13fbc55a-2ab8-4d79-8ad7-1a234052abe2",
   "metadata": {},
   "outputs": [],
   "source": [
    "jj = 0\n",
    "\n",
    "qa2 = tools.QuickAdptive(\n",
    "    funcs.finite_spectrum,\n",
    "    fname_prefix='data_learner_',\n",
    "    learner_bounds_names=['L'],\n",
    "    arg_picker=itemgetter('Es_mean'),\n",
    "    a=[10],\n",
    "    a_z=[10],\n",
    "    L=[5000,40000],\n",
    "    W=[500],\n",
    "    T=[1],\n",
    "    delta=[1e-3],\n",
    "    mu=[mus[jj]-(m0[jj]+m_zs[jj])*D[jj]/m1[jj]],\n",
    "    Smag_imp=[0.01],\n",
    "    m_z=[m_zs[jj]],\n",
    "    correlation_length=[20],\n",
    "    n_av=[20],\n",
    "    k=[30],\n",
    "    sum=[True],\n",
    "    m0=[m0[jj]],\n",
    "    m1=[m1[jj]],\n",
    "    D=[D[jj]],\n",
    "    v_F=[v_F[jj]]\n",
    ")"
   ]
  },
  {
   "cell_type": "code",
   "execution_count": null,
   "id": "a5461103-5c8f-4234-9e50-df3c7bd5a730",
   "metadata": {},
   "outputs": [],
   "source": [
    "qa2 = tools.QuickAdptive(\n",
    "    funcs.finite_spectrum_deltamu,\n",
    "    fname_prefix='data_learner_',\n",
    "    learner_bounds_names=['L'],\n",
    "    arg_picker=itemgetter('Es_mean'),\n",
    "    a=[10],\n",
    "    a_z=[10],\n",
    "    L=[5000, 40000],\n",
    "    W=[500],\n",
    "    T=[1],\n",
    "    delta=[1e-3],\n",
    "    mu=[-(m0[jj]+m_zs[jj])*D[jj]/m1[jj]],\n",
    "    deltamu=[.05],\n",
    "    Smag_imp=[0.01],\n",
    "    m_z=[m_zs[jj]],\n",
    "    correlation_length=[20],\n",
    "    n_av=[20],\n",
    "    k=[30],\n",
    "    sum=[True],\n",
    "    m0=[m0[jj]],\n",
    "    m1=[m1[jj]],\n",
    "    D=[D[jj]],\n",
    "    v_F=[v_F[jj]]\n",
    ")"
   ]
  },
  {
   "cell_type": "code",
   "execution_count": null,
   "id": "95598830-badf-4887-a23b-7ab8cfafbffa",
   "metadata": {},
   "outputs": [],
   "source": [
    "qa2.load('./data/finite_lenght_spectrum')"
   ]
  },
  {
   "cell_type": "code",
   "execution_count": null,
   "id": "0d5c714e-018b-419c-955b-447ae4d1b78c",
   "metadata": {},
   "outputs": [],
   "source": [
    "import adaptive\n",
    "adaptive.notebook_extension()\n",
    "\n",
    "qa2.runn(\n",
    "    goal=lambda learner: learner.npoints > 13,\n",
    "    executor=client2,\n",
    "    periodic_saving_folder='./data/finite_lenght_spectrum',\n",
    "    interval=60*60\n",
    ")"
   ]
  },
  {
   "cell_type": "code",
   "execution_count": null,
   "id": "67069a16-73b7-41d3-9191-229a87134a49",
   "metadata": {},
   "outputs": [],
   "source": [
    "qa2.runner.live_info()"
   ]
  },
  {
   "cell_type": "code",
   "execution_count": null,
   "id": "3d44ff56-fac7-4a6c-9c84-2fe8672b5518",
   "metadata": {},
   "outputs": [],
   "source": [
    "qa2.save('./data/finite_lenght_spectrum')"
   ]
  },
  {
   "cell_type": "code",
   "execution_count": null,
   "id": "39881307-a0e0-457a-95eb-7591cfd1ae33",
   "metadata": {},
   "outputs": [],
   "source": [
    "Data = qa2.runner.learner.to_dataframe()['extra_data']\n",
    "data_to_plot = np.array([Data[i]['Es_mean'] for i in range(len(Data))])\n",
    "try: \n",
    "    qa2.combos['Smag_imp']\n",
    "    xs = np.array(qa2.runner.learner.to_dataframe()['x'])/1e4\n",
    "except:\n",
    "    xs = np.array(qa2.runner.learner.to_dataframe()['x'])*1e3\n",
    "cutoff = .5e-3\n",
    "std = []\n",
    "middle = 15\n",
    "\n",
    "for i in range(len(Data)):\n",
    "    std.append( np.std(np.array([Data[i]['Es'][ii] for ii in range(20)]),axis=0))\n",
    "std = np.array(std)\n",
    "for i in range(len(std[0,:])):\n",
    "    if i == middle-1 or i == middle:\n",
    "        c = \"r\"\n",
    "    else:\n",
    "        c = \"k\"\n",
    "    plt.fill(np.append(xs,xs[::-1]),np.append(data_to_plot[:,i]-std[:,i],(data_to_plot[:,i]+std[:,i])[::-1]),color=c,alpha=.2)   \n",
    "\n",
    "plt.plot(xs,data_to_plot[:,:middle-1],\"k-\");\n",
    "plt.plot(xs,data_to_plot[:,middle-1:middle+1],\"r-\");\n",
    "plt.plot(xs,data_to_plot[:,middle+1:],\"k-\");\n",
    "#plt.plot(xs[i],data_to_plot[np.where(data_to_plot>0)[0][0]],\"r_\",ms=10)\n",
    "#plt.plot(xs[i],data_to_plot[np.where(data_to_plot<0)[0][-1]],\"r_\",ms=10)\n",
    "plt.ylim(-cutoff,cutoff)\n",
    "plt.yticks(np.arange(-1e-3,1.1e-3,.2e-3),[np.round(i,1) for i in np.arange(-1,1.1,.2)]);\n",
    "plt.xlim(0,20);\n",
    "\n",
    "plt.xlabel(\"$\\delta \\mu~[meV]$\");\n",
    "plt.ylabel(\"$E~[meV]$\");\n",
    "plt.ylim(-.5e-3,.5e-3);\n",
    "try: \n",
    "    qa2.combos['Smag_imp']\n",
    "    plt.xlim(.5,4);\n",
    "    plt.xlabel(\"$L~[nm]$\");\n",
    "    plt.savefig(\"L_\"+[\"NI\",\"QSHI\"][jj]+\"2.png\")\n",
    "except:\n",
    "    plt.plot([[10,3][jj]]*2,[-1,1],\"k:\",zorder=-1)\n",
    "    plt.xlim(0,20);\n",
    "    plt.xlabel(\"$\\delta \\mu~[meV]$\");\n",
    "    plt.savefig(\"Smag_imp_\"+[\"NI\",\"QSHI\"][jj]+\"2.png\")"
   ]
  },
  {
   "cell_type": "code",
   "execution_count": null,
   "id": "e6a947c5-cc99-40a7-9b98-5aaa1b3af11a",
   "metadata": {},
   "outputs": [],
   "source": []
  },
  {
   "cell_type": "code",
   "execution_count": null,
   "id": "8528a8da-7c5d-4f00-af1c-030905c4e610",
   "metadata": {},
   "outputs": [],
   "source": [
    "fig, ax = plt.subplots(1,2,figsize=(10,5),sharey=True,sharex=True,layout='constrained')\n",
    "\n",
    "Data = qa2.runner.learner.to_dataframe()['extra_data']\n",
    "data_to_plot = np.array([Data[i]['Es_mean'] for i in range(len(Data))])\n",
    "try: \n",
    "    qa2.combos['Smag_imp']\n",
    "    xs = np.array(qa2.runner.learner.to_dataframe()['x'])/1e4\n",
    "except:\n",
    "    xs = np.array(qa2.runner.learner.to_dataframe()['x'])*1e3\n",
    "cutoff = .5e-3\n",
    "std = []\n",
    "odd_std,even_std,no_states_std = [],[],[]\n",
    "odd_Es,even_Es,no_states_Es = [],[],[]\n",
    "middle = 15\n",
    "\n",
    "for i in range(len(Data)):\n",
    "    std.append( np.std(np.array([Data[i]['Es'][ii] for ii in range(20)]),axis=0))\n",
    "    odd_std.append( np.std(np.array([Data[i]['Es'][ii] for ii in np.arange(20)[odd]]),axis=0))\n",
    "    even_std.append( np.std(np.array([Data[i]['Es'][ii] for ii in np.arange(20)[even]]),axis=0))\n",
    "    no_states_std.append( np.std(np.array([Data[i]['Es'][ii] for ii in np.arange(20)[no_states]]),axis=0))\n",
    "    odd_Es.append( np.array([Data[i]['Es'][ii] for ii in np.arange(20)[odd]]))\n",
    "    even_Es.append( np.array([Data[i]['Es'][ii] for ii in np.arange(20)[even]]))\n",
    "    no_states_Es.append( np.array([Data[i]['Es'][ii] for ii in np.arange(20)[no_states]]))\n",
    "\n",
    "odd_std = np.array(odd_std)\n",
    "even_std = np.array(even_std)\n",
    "no_states_std = np.array(no_states_std)\n",
    "odd_Es = np.mean(np.array(odd_Es),axis=1)\n",
    "even_Es = np.mean(np.array(even_Es),axis=1)\n",
    "no_states_Es = np.mean(np.array(no_states_Es),axis=1)\n",
    "for i in range(len(odd_std[0,:])):\n",
    "    if i == middle-1 or i == middle:\n",
    "        c = \"r\"\n",
    "    else:\n",
    "        c = \"k\"\n",
    "    ax[0].fill(np.append(xs,xs[::-1]),np.append(odd_Es[:,i]-odd_std[:,i],(odd_Es[:,i]+odd_std[:,i])[::-1]),color=c,alpha=.2)   \n",
    "\n",
    "ax[0].plot(xs,odd_Es[:,:middle-1],\"k-\");\n",
    "ax[0].plot(xs,odd_Es[:,middle-1:middle+1],\"r-\");\n",
    "ax[0].plot(xs,odd_Es[:,middle+1:],\"k-\");\n",
    "\n",
    "for i in range(len(even_std[0,:])):\n",
    "    if i == middle-1 or i == middle:\n",
    "        c = \"r\"\n",
    "    else:\n",
    "        c = \"k\"\n",
    "    ax[1].fill(np.append(xs,xs[::-1]),np.append(even_Es[:,i]-even_std[:,i],(even_Es[:,i]+even_std[:,i])[::-1]),color=c,alpha=.2)   \n",
    "\n",
    "ax[1].plot(xs,even_Es[:,:middle-1],\"k-\");\n",
    "ax[1].plot(xs,even_Es[:,middle-1:middle+1],\"r-\");\n",
    "ax[1].plot(xs,even_Es[:,middle+1:],\"k-\");\n",
    "\n",
    "ax[0].set_ylim(-cutoff,cutoff)\n",
    "ax[0].set_yticks(np.arange(-1e-3,1.1e-3,.2e-3),[np.round(i,1) for i in np.arange(-1,1.1,.2)]);\n",
    "ax[1].set_yticks(np.arange(-1e-3,1.1e-3,.2e-3),[np.round(i,1) for i in np.arange(-1,1.1,.2)]);\n",
    "ax[0].set_xlim(0,20);\n",
    "\n",
    "ax[0].set_xlabel(\"$\\delta \\mu~[meV]$\"); ax[1].set_xlabel(\"$\\delta \\mu~[meV]$\");\n",
    "ax[0].set_ylabel(\"$E~[meV]$\"); \n",
    "ax[0].set_ylim(-.5e-3,.5e-3);\n",
    "\n",
    "ax[0].set_title(\"Odd nu. of bands\"); ax[1].set_title(\"Even nu. of bands\");\n",
    "try: \n",
    "    qa2.combos['Smag_imp']\n",
    "    ax[0].set_xlim(.5,4);\n",
    "    ax[0].set_xlabel(\"$L~[nm]$\"); ax[1].set_xlabel(\"$L~[nm]$\");\n",
    "    plt.savefig(\"L_mu_\"+[\"NI\",\"QSHI\"][jj]+\"2.png\")\n",
    "except:\n",
    "    ax[0].set_plot([[10,3][jj]]*2,[-1,1],\"k:\",zorder=-1)\n",
    "    ax[0].set_xlim(0,20);\n",
    "    ax[0].set_xlabel(\"$\\delta \\mu~[meV]$\"); ax[1].set_xlabel(\"$\\delta \\mu~[meV]$\");\n",
    "    plt.savefig(\"Smag_imp_mu_\"+[\"NI\",\"QSHI\"][jj]+\"2.png\")"
   ]
  },
  {
   "cell_type": "code",
   "execution_count": null,
   "id": "811822dc-6099-43c8-a6e2-424fd45784dc",
   "metadata": {},
   "outputs": [],
   "source": [
    "odd_std.shape, np.mean(odd_Es,axis=1).shape"
   ]
  },
  {
   "cell_type": "code",
   "execution_count": null,
   "id": "0bab7280-3ce2-491c-ac77-fb4753a85e6b",
   "metadata": {},
   "outputs": [],
   "source": [
    "qa2.runner.task.result()"
   ]
  },
  {
   "cell_type": "code",
   "execution_count": null,
   "id": "b0649d28-026d-4dc6-828f-d94c3e0460a2",
   "metadata": {},
   "outputs": [],
   "source": [
    "fsyst = systems.make_ti_ribbon(10,10, 500, 500, 1)"
   ]
  },
  {
   "cell_type": "code",
   "execution_count": null,
   "id": "c2c09746-0db3-42e8-91b6-027fa5635407",
   "metadata": {},
   "outputs": [],
   "source": [
    "S_imp = funcs.get_S_imp(0, 10, fsyst, 20)"
   ]
  },
  {
   "cell_type": "code",
   "execution_count": null,
   "id": "db56de74-3a47-42a7-8451-53d89598af81",
   "metadata": {},
   "outputs": [],
   "source": [
    "disorder_profile = np.zeros((51,51))\n",
    "for i in range(51):\n",
    "    for j in range(51):\n",
    "        disorder_profile[i,j] = S_imp(fsyst.sites[i*51+j],1)"
   ]
  },
  {
   "cell_type": "code",
   "execution_count": null,
   "id": "2984429b-a073-4562-8973-183def5e6ea1",
   "metadata": {},
   "outputs": [],
   "source": [
    "import matplotlib.pyplot as plt\n",
    "import pickle"
   ]
  },
  {
   "cell_type": "code",
   "execution_count": null,
   "id": "975d8672-1606-4cd0-afef-2d6d9d25e8a5",
   "metadata": {},
   "outputs": [],
   "source": [
    "fig, ax = plt.subplots(1,1,figsize=(4,4))\n",
    "im = ax.contourf(disorder_profile)\n",
    "plt.colorbar(im)"
   ]
  },
  {
   "cell_type": "code",
   "execution_count": null,
   "id": "5bda07bd-ea64-4b84-aca8-8c3937aaaf45",
   "metadata": {},
   "outputs": [],
   "source": [
    "fileName = 'disorder_profile.pkl'\n",
    "fileObject = open(fileName, 'wb')\n",
    "\n",
    "with open(fileName,'wb') as f:\n",
    "    pickle.dump(disorder_profile, f) "
   ]
  },
  {
   "cell_type": "code",
   "execution_count": null,
   "id": "ca037c8e-b783-4174-8ce7-d3436814df04",
   "metadata": {},
   "outputs": [],
   "source": [
    "plt.hist(disorder_profile.flatten())"
   ]
  },
  {
   "cell_type": "code",
   "execution_count": null,
   "id": "476d2a8f-8f98-47a9-9e8a-ee7db2286592",
   "metadata": {},
   "outputs": [],
   "source": []
  }
 ],
 "metadata": {
  "kernelspec": {
   "display_name": "Python 3.10 (kwant-latest)",
   "language": "python",
   "name": "base"
  },
  "language_info": {
   "codemirror_mode": {
    "name": "ipython",
    "version": 3
   },
   "file_extension": ".py",
   "mimetype": "text/x-python",
   "name": "python",
   "nbconvert_exporter": "python",
   "pygments_lexer": "ipython3",
   "version": "3.10.6"
  }
 },
 "nbformat": 4,
 "nbformat_minor": 5
}
