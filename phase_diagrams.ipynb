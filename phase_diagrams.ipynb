{
 "cells": [
  {
   "cell_type": "code",
   "execution_count": null,
   "id": "f5506fca-fba1-479f-8bdc-b5b33d01976f",
   "metadata": {},
   "outputs": [],
   "source": [
    "import ipyparallel\n",
    "import socket\n",
    "import os\n",
    "import getpass\n",
    "import numpy as np\n",
    "import matplotlib.pyplot as plt\n",
    "import pickle"
   ]
  },
  {
   "cell_type": "code",
   "execution_count": null,
   "id": "7c33d284-c727-4001-b160-29625df36b60",
   "metadata": {},
   "outputs": [],
   "source": [
    "import funcs\n",
    "import tools\n",
    "from operator import itemgetter\n",
    "import adaptive\n",
    "adaptive.notebook_extension()"
   ]
  },
  {
   "cell_type": "code",
   "execution_count": null,
   "id": "de0eb15f-bc82-4d28-9979-0665a36b044f",
   "metadata": {},
   "outputs": [],
   "source": [
    "import kwant"
   ]
  },
  {
   "cell_type": "code",
   "execution_count": null,
   "id": "c2017055-ce2b-4aa8-9b71-e8466c6b89df",
   "metadata": {},
   "outputs": [],
   "source": [
    "client = ipyparallel.Client(\n",
    "    profile='slurm2104', \n",
    "    sshserver='iffslurm.iff.kfa-juelich.de'\n",
    ")\n",
    "client[:].use_cloudpickle()\n",
    "\n",
    "ids = client.ids\n",
    "hosts = client[:].apply_sync(socket.gethostname)\n",
    "print(ids)\n",
    "\n",
    "notbookcwd = os.getcwd()\n",
    "clustercwd = notbookcwd.replace('Home', 'Users/' + getpass.getuser())\n",
    "print(len(client[:].apply_sync(os.chdir, clustercwd)))"
   ]
  },
  {
   "cell_type": "code",
   "execution_count": null,
   "id": "7c9a2391-5856-4e50-8c0e-e48501330de8",
   "metadata": {},
   "outputs": [],
   "source": [
    "client2 = ipyparallel.Client(\n",
    "    profile='slurm2102', \n",
    "    sshserver='iffslurm.iff.kfa-juelich.de'\n",
    ")\n",
    "client2[:].use_cloudpickle()\n",
    "\n",
    "ids = client2.ids\n",
    "hosts = client2[:].apply_sync(socket.gethostname)\n",
    "print(ids)\n",
    "\n",
    "notbookcwd = os.getcwd()\n",
    "clustercwd = notbookcwd.replace('Home', 'Users/' + getpass.getuser())\n",
    "print(len(client2[:].apply_sync(os.chdir, clustercwd)))"
   ]
  },
  {
   "cell_type": "code",
   "execution_count": null,
   "id": "fc9cac36-221b-4f23-b103-532382816c05",
   "metadata": {},
   "outputs": [],
   "source": [
    "def reload():\n",
    "    import importlib\n",
    "    import funcs\n",
    "    import tools\n",
    "    import systems\n",
    "    \n",
    "    importlib.reload(funcs)\n",
    "    importlib.reload(tools)\n",
    "    importlib.reload(systems)\n",
    "reload()\n",
    "\n",
    "_ = client[:].apply_sync(reload)"
   ]
  },
  {
   "cell_type": "code",
   "execution_count": null,
   "id": "2d3a9b23-585a-4eb7-9acb-75c6305b7e90",
   "metadata": {},
   "outputs": [],
   "source": [
    "_ = client2[:].apply_sync(reload)"
   ]
  },
  {
   "cell_type": "code",
   "execution_count": null,
   "id": "3eaba920-0a30-413a-8802-570a15df64c8",
   "metadata": {},
   "outputs": [],
   "source": [
    "plt.style.use(['default', './paper.mplstyle'])"
   ]
  },
  {
   "cell_type": "markdown",
   "id": "a8236d7d-5cf5-46d1-975f-13b38af199d7",
   "metadata": {
    "jp-MarkdownHeadingCollapsed": true,
    "tags": []
   },
   "source": [
    "# 3D model: $(N,\\langle \\sigma_z \\rangle)(M_z,\\mu)$"
   ]
  },
  {
   "cell_type": "code",
   "execution_count": null,
   "id": "d25cbc35-6e6c-4479-93fc-51044b61e0c1",
   "metadata": {},
   "outputs": [],
   "source": [
    "params_3D = dict(\n",
    "    a=[10],\n",
    "    a_z=[20/30],\n",
    "    T=[20],\n",
    "    W=[600],\n",
    "    delta=[0],\n",
    "    flux=[0],\n",
    "    m_z=[0, 0.15],\n",
    "    mu=[-0.06, 0.16],\n",
    "    m0=[0],\n",
    "    m1=[0],\n",
    "    D=[0], \n",
    "    h_mode=[0]\n",
    "    )\n",
    "\n",
    "params_3D = get_correct_limits_3D(params_3D)"
   ]
  },
  {
   "cell_type": "code",
   "execution_count": null,
   "id": "3ebb2abf-b6ea-44fd-8513-ece28fe3b663",
   "metadata": {},
   "outputs": [],
   "source": [
    "qa_modes = tools.QuickAdptive(\n",
    "    funcs.phase_diagram,\n",
    "    fname_prefix='data_learner_phase_',\n",
    "    learner_bounds_names=['m_z', 'mu'],\n",
    "    arg_picker=itemgetter('modes'),\n",
    "    **params_3D\n",
    ")"
   ]
  },
  {
   "cell_type": "code",
   "execution_count": null,
   "id": "9db10bf8-1909-4d31-9559-6f450cdd4276",
   "metadata": {},
   "outputs": [],
   "source": [
    "qa_modes.runner.task.result()"
   ]
  },
  {
   "cell_type": "code",
   "execution_count": null,
   "id": "5f05224f-ff41-4408-8c22-e2147d7f2324",
   "metadata": {},
   "outputs": [],
   "source": [
    "qa_modes.runn(\n",
    "    goal=lambda learner: learner.npoints > 20,\n",
    "    executor=client,\n",
    "    periodic_saving_folder='./data/gap',\n",
    "    interval=5*60\n",
    ")"
   ]
  },
  {
   "cell_type": "code",
   "execution_count": null,
   "id": "99cef1c5-b75e-408b-929e-c6ca4a601e5a",
   "metadata": {},
   "outputs": [],
   "source": [
    "qa_modes.save('./data/gap')"
   ]
  },
  {
   "cell_type": "markdown",
   "id": "f1c8a26f-87d4-42b3-8280-223cbb18585a",
   "metadata": {
    "tags": []
   },
   "source": [
    "# 3D model: $\\Delta_{ind}(M_z, \\mu)$"
   ]
  },
  {
   "cell_type": "markdown",
   "id": "80ca45aa-f183-4f68-ad04-7a189c99940e",
   "metadata": {
    "tags": []
   },
   "source": [
    "# 3D model: $FOM(M_z,\\mu)$"
   ]
  },
  {
   "cell_type": "markdown",
   "id": "84a10128-a751-4436-99e2-7ca6bc14b845",
   "metadata": {
    "jp-MarkdownHeadingCollapsed": true,
    "tags": []
   },
   "source": [
    "### cross section"
   ]
  },
  {
   "cell_type": "code",
   "execution_count": null,
   "id": "ec64d936-1e2e-4b57-8f2c-e857c22f5560",
   "metadata": {},
   "outputs": [],
   "source": [
    "params_3D2 = dict(\n",
    "    a=[-1],   # this will be reset by get_correct_lattice_constant\n",
    "    a_z=[10], # a_z=T/a_z in the code\n",
    "    T=[30],\n",
    "    W=[500],\n",
    "    delta=[0],\n",
    "    m_z=[0, 0.1],\n",
    "    mu=[0], \n",
    "    h_mode=[0],\n",
    "    get_delta=[False],\n",
    "    p_mode=[0],\n",
    "    num_bands=[100],\n",
    "    k_points=[400]  # gives an error of about 3.33 * 0.12 / 800 = 0.5 meV, max(A_0) * k_max/k_points\n",
    "    )\n",
    "\n",
    "qa_gap2 = tools.QuickAdptive(\n",
    "    funcs.get_fig_of_merit,\n",
    "    fname_prefix='data_learner_two_gaps_',\n",
    "    learner_bounds_names=['m_z'],\n",
    "    arg_picker=itemgetter('E_u'),\n",
    "    **params_3D2\n",
    ")"
   ]
  },
  {
   "cell_type": "markdown",
   "id": "735eaa33-1e2c-401d-9182-0aaff734af1e",
   "metadata": {
    "jp-MarkdownHeadingCollapsed": true,
    "tags": []
   },
   "source": [
    "### $E_{u/l}$ and $\\Delta_{ind}$ "
   ]
  },
  {
   "cell_type": "code",
   "execution_count": null,
   "id": "aacd2870-720d-4766-82e6-1705f1c6c9b5",
   "metadata": {},
   "outputs": [],
   "source": [
    "params_3D = dict(\n",
    "    a=[-80],   # this will be reset by get_correct_lattice_constant\n",
    "    a_z=[-10], # a_z=T/a_z in the code\n",
    "    T=[np.round(20/1.12), np.round(30/1.12), np.round(40/1.12), np.round(50/1.12), np.round(60/1.12)], #\n",
    "    W=[500],\n",
    "    delta=[0.001],\n",
    "    m_z=[0, 0.08],#[0, 0.08],\n",
    "    mu=[-100], \n",
    "    h_mode=[0],\n",
    "    p_mode=[0],    \n",
    "    get_delta=[True],\n",
    "    num_bands=[30],# for u_!=0, 30 is not enough\n",
    "    k_points=[2400],  # gives an error of about 3.33 * 0.12 / 800 = 0.5 meV, max(A_0) * k_max/k_points\n",
    "    sym=[False],\n",
    "    u_B=[0],\n",
    "    u_T=[0]\n",
    "    )"
   ]
  },
  {
   "cell_type": "code",
   "execution_count": null,
   "id": "a46d1f35-cf27-4de0-98a2-f616bbfeeca9",
   "metadata": {},
   "outputs": [],
   "source": [
    "a_z=[-20], # a_z=T/a_z in the code\n",
    "T=[np.floor(20/1.0425), np.ceil(100/1.0425)],"
   ]
  },
  {
   "cell_type": "code",
   "execution_count": null,
   "id": "ea572639-b945-4092-89f1-5fed355df27e",
   "metadata": {},
   "outputs": [],
   "source": [
    "#a, a_z, W, T, mu, m_z, params, h_mode, p_mode = funcs.optimize_parameters(a=-80, a_z=-10, W=500, T=35.5802469135802, mu=-100, m_z=m_z, params=funcs.param_list[15], sym=False, h_mode=3, p_mode=15)"
   ]
  },
  {
   "cell_type": "code",
   "execution_count": null,
   "id": "ab1fa05a-af2f-4ed5-acfe-971db22cae4e",
   "metadata": {},
   "outputs": [],
   "source": [
    "#executor = client.executor()\n",
    "#job = executor.submit(funcs.get_fig_of_merit, a=10.5, a_z=-10, T=35.58024691358025, W=500, delta=0.001, m_z=0.0039506172839506165, mu=-100, h_mode=3, p_mode=15, \n",
    "#                      get_delta=True, num_bands=30, k_points=1500, sym=False    )"
   ]
  },
  {
   "cell_type": "code",
   "execution_count": null,
   "id": "0ee62561-060d-40da-9cdb-df7a6e69206f",
   "metadata": {},
   "outputs": [],
   "source": [
    "qa_gap2 = tools.QuickAdptive(\n",
    "    funcs.get_fig_of_merit,\n",
    "    fname_prefix='data_learner_two_gaps_',\n",
    "    learner_bounds_names=['m_z'],\n",
    "    arg_picker=itemgetter('E_u'),\n",
    "    **params_3D\n",
    ")\n",
    "qa_gap2.load('./data/gap')\n",
    "\n",
    "qa_gap2.learner.strategy = \"npoints\""
   ]
  },
  {
   "cell_type": "code",
   "execution_count": null,
   "id": "f97689ad-5038-4acc-b319-36ca80da29c9",
   "metadata": {},
   "outputs": [],
   "source": [
    "qa_gap2.runn(\n",
    "    goal=lambda learner: learner.npoints > len(params_3D['T'])*20,\n",
    "    executor=client2,\n",
    "    periodic_saving_folder='./data/gap',\n",
    "    interval=10*60\n",
    ")"
   ]
  },
  {
   "cell_type": "code",
   "execution_count": null,
   "id": "70d80718-faa2-4250-958e-9ad465a36827",
   "metadata": {},
   "outputs": [],
   "source": [
    "qa_gap2.runner.live_info()"
   ]
  },
  {
   "cell_type": "code",
   "execution_count": null,
   "id": "c1485b3f-d578-4c2e-a6d8-20d09da2e2bc",
   "metadata": {},
   "outputs": [],
   "source": [
    "qa_gap2.save('./data/gap')"
   ]
  },
  {
   "cell_type": "code",
   "execution_count": null,
   "id": "5b7d2711-960a-4a88-8eb4-418ddc4a1f7f",
   "metadata": {},
   "outputs": [],
   "source": [
    "j = 1\n",
    "\n",
    "which_data = \"gap_u\"\n",
    "\n",
    "x = qa_gap2.learner.learners[j].to_dataframe()['x'].values\n",
    "y = qa_gap2.learner.learners[j].to_dataframe()['y'].values\n",
    "minn = -0.07#085\n",
    "maxx = 0.11\n",
    "iis = []\n",
    "output = []\n",
    "for i in range(len(x)):\n",
    "    m_z = x[i]\n",
    "    T = y[i]\n",
    "    if minn< x[i] < maxx:\n",
    "        iis.append(i)\n",
    "        gap_u = qa_gap2.learner.learners[j].to_dataframe()['extra_data'][i]['gap_u']\n",
    "        E_u= qa_gap2.learner.learners[j].to_dataframe()['extra_data'][i]['E_u']\n",
    "        gap_l = qa_gap2.learner.learners[j].to_dataframe()['extra_data'][i]['gap_l']\n",
    "        E_l= qa_gap2.learner.learners[j].to_dataframe()['extra_data'][i]['E_l']\n",
    "        E_gap = qa_gap2.learner.learners[j].to_dataframe()['extra_data'][i]['E_gap']        \n",
    "        output.append(qa_gap2.learner.learners[j].to_dataframe()['extra_data'][i][which_data])\n",
    "        print(i, m_z, output[-1])\n",
    "\n",
    "#print(np.round(E_u,3), np.round(mu_u,3), mn_u)"
   ]
  },
  {
   "cell_type": "code",
   "execution_count": null,
   "id": "f23a922b-77f6-4353-a7d5-5335f5336c2a",
   "metadata": {},
   "outputs": [],
   "source": [
    "### plt.plot(x_old,output_old,\"r-\")\n",
    "#plt.plot(x[iis],np.array(output1)*np.array(output2),\"b-\")\n",
    "xx = np.array(x[iis])\n",
    "plt.plot(xx[xx>.001],np.array(output)[xx>.001],\"b-\")\n",
    "plt.plot(x[np.arange(start,end+1)],new_data,\"r-\")\n",
    "#plt.ylim(0,1e-6)\n",
    "#plt.plot(x[iis],new_data,\"r-\")\n",
    "\n",
    "#plt.yscale('log')\n",
    "#plt.plot([np.pi*3/250]*2,[-1,1],\"b--\",label=\"beta\")\n",
    "#plt.plot([np.sqrt((np.pi*3/250)**2+0.0035**2)]*2,[-1,1],\"r:\",label=\"sqrt(m_0^2+beta^2)\")\n",
    "#plt.legend();\n",
    "#plt.ylim(0,0.025)"
   ]
  },
  {
   "cell_type": "code",
   "execution_count": null,
   "id": "6c3ed965-bac4-40d2-8198-9c622641c084",
   "metadata": {},
   "outputs": [],
   "source": [
    "start = 4\n",
    "end = 5\n",
    "\n",
    "x0=  qa_gap2.learner.learners[j].to_dataframe()['x'][start-1]\n",
    "x1=  qa_gap2.learner.learners[j].to_dataframe()['x'][end+1]\n",
    "\n",
    "y0=  qa_gap2.learner.learners[j].to_dataframe()['extra_data'][start-1][which_data] \n",
    "y1=  qa_gap2.learner.learners[j].to_dataframe()['extra_data'][end+1][which_data]\n",
    "\n",
    "new_data=[]\n",
    "for i in np.arange(start,end+1):\n",
    "    xi = qa_gap2.learner.learners[j].to_dataframe()['x'][i]\n",
    "    new_data.append(y0+(y1-y0)*(xi-x0)/(x1-x0))\n",
    "    qa_gap2.learner.learners[j].to_dataframe()['extra_data'][i][which_data] = new_data[-1]"
   ]
  },
  {
   "cell_type": "code",
   "execution_count": null,
   "id": "79b02d77-0a22-46f9-ad93-c75b8e0306fd",
   "metadata": {},
   "outputs": [],
   "source": [
    "i = 6\n",
    "\n",
    "#for i in range(36):\n",
    "Es = qa_gap2.learner.learners[j].to_dataframe()[\"extra_data\"][i]['Es']\n",
    "ks = qa_gap2.learner.learners[j].to_dataframe()[\"extra_data\"][i]['ks']\n",
    "nu_prop_modes = qa_gap2.learner.learners[j].to_dataframe()[\"extra_data\"][i]['nu_prop_modes']\n",
    "energies_prop_modes = qa_gap2.learner.learners[j].to_dataframe()[\"extra_data\"][i]['energies_prop_modes']\n",
    "E_u = qa_gap2.learner.learners[j].to_dataframe()[\"extra_data\"][i]['E_u']\n",
    "E_l = qa_gap2.learner.learners[j].to_dataframe()[\"extra_data\"][i]['E_l']\n",
    "E_gap = qa_gap2.learner.learners[j].to_dataframe()[\"extra_data\"][i]['E_gap']\n",
    "mu_u = qa_gap2.learner.learners[j].to_dataframe()[\"extra_data\"][i]['mu_u']\n",
    "mu_l = qa_gap2.learner.learners[j].to_dataframe()[\"extra_data\"][i]['mu_l']\n",
    "mu_gap = qa_gap2.learner.learners[j].to_dataframe()[\"extra_data\"][i]['mu_gap']\n",
    "mn_u = qa_gap2.learner.learners[j].to_dataframe()[\"extra_data\"][i]['mn_u']\n",
    "mn_l = qa_gap2.learner.learners[j].to_dataframe()[\"extra_data\"][i]['mn_l']\n",
    "\n",
    "bands = qa_gap.learner.to_dataframe()[\"extra_data\"][i]['bands']\n",
    "ks_bands = qa_gap.learner.to_dataframe()[\"extra_data\"][i]['ks_bands']\n",
    "\n",
    "print(x[i], E_u)"
   ]
  },
  {
   "cell_type": "code",
   "execution_count": null,
   "id": "7bfc20e7-a365-4e27-a158-14aeb4155ff6",
   "metadata": {},
   "outputs": [],
   "source": [
    "fig, ax = plt.subplots(1,1,figsize=(8,6))\n",
    "#ks = np.linspace(0,20,len(Es))\n",
    "for k in np.arange(len(Es)):\n",
    "#    plt.plot(ks_bands[i],bands[i],'k.')\n",
    "    plt.plot(ks[k]*np.ones(len(Es[k]))*10,Es[k],'k.',ms=2,markeredgewidth=0)\n",
    "    \n",
    "plt.plot(np.array(nu_prop_modes),energies_prop_modes,c='b',label='Prop. modes');\n",
    "\n",
    "plt.plot(np.ones(2)*0.1,[mu_gap-E_gap/2,mu_gap+E_gap/2],\"c-\",lw=5,label='$E_{gap}$')\n",
    "plt.plot(np.ones(2),[mu_u-E_u/2,mu_u+E_u/2],\"r-\",lw=5,label='$E_u$')\n",
    "plt.plot(np.ones(2),[mu_l-E_l/2,mu_l+E_l/2],\"g-\",lw=5,label='$E_l$')\n",
    "\n",
    "#plt.plot([0,20],np.ones(2)*m0,\"g:\")\n",
    "#plt.plot([0,20],np.ones(2)*-mu1,\"r:\")\n",
    "\n",
    "    \n",
    "d = (mu_u-mu_l)*.7\n",
    "plt.xlim(0,d*200);\n",
    "plt.ylim(mu_l-d, mu_u+d)\n",
    "\n",
    "plt.xlim(0,10);\n",
    "plt.ylim(-.15,.1);\n",
    "#plt.ylim(.1,.12);\n",
    "plt.legend(loc='best');\n",
    "plt.title('M_z='+str(x[i]))\n",
    "plt.grid();"
   ]
  },
  {
   "cell_type": "code",
   "execution_count": null,
   "id": "091f3942-1097-4156-8995-9bf9d636fdb0",
   "metadata": {},
   "outputs": [],
   "source": [
    "executor = client2.executor()"
   ]
  },
  {
   "cell_type": "code",
   "execution_count": null,
   "id": "23e2aa6a-884d-49b1-baa0-5ca75f3f50c6",
   "metadata": {},
   "outputs": [],
   "source": [
    "job = executor.submit(funcs.get_fig_of_merit,a=-80,a_z=-20,T=30,W=500,delta=0.001,m_z=0,mu=-100,h_mode=3,p_mode=15,get_delta=True,\n",
    "                      num_bands=30,kpoints=1500,sym=False,u_B=0,u_T=0)"
   ]
  },
  {
   "cell_type": "code",
   "execution_count": null,
   "id": "affc2b1d-0055-4bde-aca4-3e352438fb97",
   "metadata": {},
   "outputs": [],
   "source": [
    "res = job.result()"
   ]
  },
  {
   "cell_type": "code",
   "execution_count": null,
   "id": "0c4110dc-1e20-48a3-95d0-dff52822863e",
   "metadata": {},
   "outputs": [],
   "source": [
    "qa_gap2.runner.task.result()"
   ]
  },
  {
   "cell_type": "code",
   "execution_count": null,
   "id": "a28f9e6e-340d-4bc7-a20f-ab3ded428908",
   "metadata": {},
   "outputs": [],
   "source": [
    "qa_gap2.runner.task.result()"
   ]
  },
  {
   "cell_type": "markdown",
   "id": "22df8eb8-b0dd-4b4b-a43a-2ec449bb5af9",
   "metadata": {
    "jp-MarkdownHeadingCollapsed": true
   },
   "source": [
    "## evaluate results"
   ]
  },
  {
   "cell_type": "code",
   "execution_count": null,
   "id": "14f190e7-7604-4db0-8dd2-ecfbc9370a44",
   "metadata": {},
   "outputs": [],
   "source": [
    "plt.plot(qa_gap2.learner.learners[0].to_dataframe()['x'])"
   ]
  },
  {
   "cell_type": "code",
   "execution_count": null,
   "id": "d08a4143-a36c-4457-8b31-b6bd75344a10",
   "metadata": {},
   "outputs": [],
   "source": [
    "def pplot(learner):\n",
    "    plot = learner.plot(tri_alpha=0.2)\n",
    "    return (plot.Image + plot.EdgePaths.I + plot).cols(2)"
   ]
  },
  {
   "cell_type": "code",
   "execution_count": null,
   "id": "b2fdc1a6-b6a5-4ca1-8a6f-71b9fe1ad06f",
   "metadata": {},
   "outputs": [],
   "source": [
    "qa_gap2.learner.plot(plotter=pplot)\n",
    "#qa_gap2.learner.plot()"
   ]
  },
  {
   "cell_type": "code",
   "execution_count": null,
   "id": "44261e8e-fb33-42e7-8e94-09cf6bb959d8",
   "metadata": {},
   "outputs": [],
   "source": [
    "fig, ax = plt.subplots(2,2,figsize=(10,10))\n",
    "m_z_selected = 0.08\n",
    "data_T1 = qa_gap2.learner.learners[0].to_dataframe()\n",
    "data_T2 = qa_gap2.learner.learners[1].to_dataframe()\n",
    "\n",
    "ax[0,0].plot(data_T1['x'],data_T1['y'], 'x')\n",
    "ax[0,1].plot(data_T2['x'],data_T2['y'], 'x')\n",
    "ax[0,0].set_ylim(0,0.05); ax[0,1].set_ylim(0,0.05);\n",
    "\n",
    "for i in range(len(data_T1)):\n",
    "    if abs( data_T1['x'][i] - m_z_selected) < 0.005:\n",
    "        ks1 = data_T1['extra_data'][i]['ks']\n",
    "        Es1 = data_T1['extra_data'][i]['Es']\n",
    "\n",
    "for i in range(len(data_T2)):\n",
    "    if abs( data_T2['x'][i] - m_z_selected) < 0.005:\n",
    "        ks2 = data_T2['extra_data'][i]['ks']\n",
    "        Es2 = data_T2['extra_data'][i]['Es']\n",
    "        \n",
    "for i in np.arange(len(Es1)):\n",
    "    ax[1,0].plot(ks1[i]*np.ones(len(Es1[i])),Es1[i],'k.')\n",
    "    \n",
    "for i in np.arange(len(Es2)):\n",
    "    ax[1,1].plot(ks2[i]*np.ones(len(Es2[i])),Es2[i],'k.')\n",
    "    \n",
    "ax[1,0].set_title('T='+str(params_3D2['T'][0]))\n",
    "ax[1,1].set_title('T='+str(params_3D2['T'][1]))\n",
    "ax[1,0].set_xlim(0,0.5);  ax[1,1].set_xlim(0,0.5);\n",
    "ax[1,0].set_ylim(-.2,.2); ax[1,1].set_ylim(-.2,.2);"
   ]
  },
  {
   "cell_type": "code",
   "execution_count": null,
   "id": "09b78ebe-04e1-4ae9-b6fd-6a7b640c7cbb",
   "metadata": {},
   "outputs": [],
   "source": [
    "qa_plot = qa_gap"
   ]
  },
  {
   "cell_type": "code",
   "execution_count": null,
   "id": "6dde4f86-6b2d-4a4c-a3a2-52bae773809a",
   "metadata": {},
   "outputs": [],
   "source": [
    "fig, ax = plt.subplots(1,1,figsize=(10,4))\n",
    "shift = 1.12\n",
    "test_T = 50/shift\n",
    "x = qa_plot.learner.to_dataframe()[\"x\"]\n",
    "y = qa_plot.learner.to_dataframe()[\"y\"]\n",
    "for i in np.arange(len(x)):\n",
    "    if 0.0 < x[i] < 0.1 and test_T-30 < y[i] < test_T+30:\n",
    "        mn_l = qa_plot.learner.to_dataframe()[\"extra_data\"][i]['mn_l']\n",
    "        ax.plot(  x[i], y[i]*shift , [\"x\",\"o\",\"+\"][int((mn_l+1))])# qa_plot.learner.to_dataframe()[\"extra_data\"][i]['E_gap'] , \"x\" )\n",
    "        ax.text(  x[i], y[i]*shift , s=str(i))# qa_plot.learner.to_dataframe()[\"extra_data\"][i]['E_gap']*1.05  )"
   ]
  },
  {
   "cell_type": "code",
   "execution_count": null,
   "id": "9339e694-62b1-4948-b8f1-b643ebbd75f0",
   "metadata": {},
   "outputs": [],
   "source": [
    "i = 1\n",
    "T = y[i]\n",
    "m_z = x[i]\n",
    "print(T,m_z)\n",
    "\n",
    "\n",
    "Es = qa_plot.learner.to_dataframe()[\"extra_data\"][i]['Es']\n",
    "nu_prop_modes = qa_plot.learner.to_dataframe()[\"extra_data\"][i]['nu_prop_modes']\n",
    "energies_prop_modes = qa_plot.learner.to_dataframe()[\"extra_data\"][i]['energies_prop_modes']\n",
    "E_u   = qa_plot.learner.to_dataframe()[\"extra_data\"][i]['E_u']\n",
    "E_l   = qa_plot.learner.to_dataframe()[\"extra_data\"][i]['E_l']\n",
    "E3_u   = qa_plot.learner.to_dataframe()[\"extra_data\"][i]['E3_u']\n",
    "E3_l   = qa_plot.learner.to_dataframe()[\"extra_data\"][i]['E3_l']\n",
    "E_gap = qa_plot.learner.to_dataframe()[\"extra_data\"][i]['E_gap']\n",
    "mu_u  = qa_plot.learner.to_dataframe()[\"extra_data\"][i]['mu_u']\n",
    "mu_l  = qa_plot.learner.to_dataframe()[\"extra_data\"][i]['mu_l']\n",
    "mu3_u  = qa_plot.learner.to_dataframe()[\"extra_data\"][i]['mu3_u']\n",
    "mu3_l  = qa_plot.learner.to_dataframe()[\"extra_data\"][i]['mu3_l']\n",
    "mu_gap= qa_plot.learner.to_dataframe()[\"extra_data\"][i]['mu_gap']\n",
    "mn_u  = qa_plot.learner.to_dataframe()[\"extra_data\"][i]['mn_u']\n",
    "mn_l  = qa_plot.learner.to_dataframe()[\"extra_data\"][i]['mn_l']\n",
    "\n",
    "print(E_u, mu_u, mn_u)\n",
    "print(E_l, mu_l, mn_l)"
   ]
  },
  {
   "cell_type": "code",
   "execution_count": null,
   "id": "457249ce-881e-4273-9683-cef0f2575363",
   "metadata": {},
   "outputs": [],
   "source": [
    "fig, ax = plt.subplots(1,1,figsize=(8,6))\n",
    "ks = np.linspace(0,20,len(Es))\n",
    "for i in np.arange(len(Es)):\n",
    "#    plt.plot(ks_bands[i],bands[i],'k.')\n",
    "    plt.plot(ks[i]*np.ones(len(Es[i])),Es[i],'k.')\n",
    "    \n",
    "plt.plot(np.array(nu_prop_modes),energies_prop_modes,c='b',label='Prop. modes');\n",
    "\n",
    "plt.plot(np.ones(2)*0.1,[mu_gap-E_gap/2,mu_gap+E_gap/2],\"c-\",lw=5,label='$E_{gap}$')\n",
    "plt.plot(np.ones(2),[mu_u-E_u/2,mu_u+E_u/2],\"r-\",lw=5,label='$E_u$')\n",
    "plt.plot(np.ones(2),[mu_l-E_l/2,mu_l+E_l/2],\"g-\",lw=5,label='$E_l$')\n",
    "plt.plot(np.ones(2)*3,[mu3_u-E3_u/2,mu3_u+E3_u/2],\"y-\",lw=5,label='$E_{3,u}$')\n",
    "plt.plot(np.ones(2)*3,[mu3_l-E3_l/2,mu3_l+E3_l/2],\"b-\",lw=5,label='$E_{3,l}$')\n",
    "\n",
    "d = (mu_u-mu_l)*1.5\n",
    "plt.ylim(mu_l-d, mu_u+d)\n",
    "#plt.ylim(-0.0,.1);\n",
    "\n",
    "plt.xlim(0,d*200);\n",
    "plt.ylim(-.15,.15); plt.xlim(0,30);\n",
    "plt.legend(loc='best');\n",
    "plt.grid();"
   ]
  },
  {
   "cell_type": "markdown",
   "id": "0f48dcf7-5d41-4f33-af84-1b09ebae46a4",
   "metadata": {},
   "source": [
    "------"
   ]
  },
  {
   "cell_type": "code",
   "execution_count": null,
   "id": "9a8bf46c-ca95-41ea-a8a2-38a7bce894ac",
   "metadata": {},
   "outputs": [],
   "source": [
    "extra_data = qa_gap.learner.to_dataframe()[\"extra_data\"]\n",
    "Es = [extra_data[i]['Es'].flatten() for i in np.arange(len(extra_data))]\n",
    "ks = [np.repeat(extra_data[i]['ks'],50) for i in np.arange(len(extra_data))]"
   ]
  },
  {
   "cell_type": "code",
   "execution_count": null,
   "id": "80de5978-08bf-4032-9b5b-206764d058d0",
   "metadata": {},
   "outputs": [],
   "source": [
    "from bokeh.layouts import column\n",
    "from bokeh.models import ColumnDataSource, Slider, CustomJS\n",
    "from bokeh.plotting import figure, output_file, show\n",
    "\n",
    "x = ks[0]\n",
    "y = dict()\n",
    "for i in np.arange(len(ks)):\n",
    "    y[str(i)] = Es[i]    \n",
    "\n",
    "inital_data = '0'\n",
    "\n",
    "source_visible = ColumnDataSource(data=dict(\n",
    "    x=x, y=y[inital_data]))\n",
    "source_available = ColumnDataSource(data=y)\n",
    "  \n",
    "# Create plots and widgets\n",
    "plot = figure(x_range=(0, 1), y_range=(-.05, .15))\n",
    "  \n",
    "plot.scatter('x', 'y', source=source_visible, line_width=1, line_alpha=0.5)\n",
    "  \n",
    "# Create Slider object\n",
    "slider = Slider(value=0,\n",
    "                start=0,\n",
    "                end=0.1,\n",
    "                step=0.1/51,\n",
    "                title='Value of Mz')\n",
    "  \n",
    "# Adding callback code\n",
    "callback = CustomJS( args=dict(source_visible=source_visible,\n",
    "              source_available=source_available), code=\"\"\"\n",
    "        var selected_function = parseInt(50*cb_obj.value/0.1);\n",
    "        var data_visible   = source_visible.data;\n",
    "        var data_available = source_available.data;\n",
    "        data_visible.y = data_available[selected_function];\n",
    "        source_visible.change.emit();\n",
    "    \"\"\")\n",
    "\n",
    "slider.js_on_change('value', callback)\n",
    "\n",
    "layout = column(slider, plot)\n",
    "  \n",
    "output_file('exam.html')\n",
    "  \n",
    "show(layout)"
   ]
  },
  {
   "cell_type": "code",
   "execution_count": null,
   "id": "f3b16bc5-0f03-4c1e-8640-1dc23d00d00b",
   "metadata": {},
   "outputs": [],
   "source": [
    "params_3D = dict(\n",
    "    a=[10],    \n",
    "    a_z=[20/30],\n",
    "    T=[20],\n",
    "    W=[600],\n",
    "    delta=[5e-3],\n",
    "    flux=[0],\n",
    "    m_z=[0, 0.15],\n",
    "    mu=[-0.06, 0.16],\n",
    "    m0=[0],\n",
    "    m1=[0],\n",
    "    D=[0], \n",
    "    h_mode=[0]\n",
    "    )\n",
    "\n",
    "params_3D = get_correct_limits_3D(params_3D)"
   ]
  },
  {
   "cell_type": "code",
   "execution_count": null,
   "id": "d76a9e02-7d88-4f39-b19b-6ce92951ce1c",
   "metadata": {},
   "outputs": [],
   "source": [
    "import tools\n",
    "import funcs\n",
    "from operator import itemgetter\n",
    "\n",
    "qa_top = tools.QuickAdptive(\n",
    "    funcs.gap_search_k_fast,\n",
    "    fname_prefix='data_learner_gap_new_',\n",
    "    learner_bounds_names=['m_z', 'mu'],\n",
    "    arg_picker=itemgetter('gap'),\n",
    "    **params_3D\n",
    ")\n",
    "\n",
    "qa_mn = tools.QuickAdptive(\n",
    "    funcs.calculate_majorana_num,\n",
    "    fname_prefix='data_learner_mn_',\n",
    "    learner_bounds_names=['m_z', 'mu'],\n",
    "    arg_picker=itemgetter('mn'),\n",
    "    **params_3D\n",
    ")"
   ]
  },
  {
   "cell_type": "code",
   "execution_count": null,
   "id": "5fcf5b16-9c38-4c56-bc2e-ac10edb20333",
   "metadata": {},
   "outputs": [],
   "source": [
    "qa_top.load('./data/gap')\n",
    "qa_mn.load('./data/gap')"
   ]
  },
  {
   "cell_type": "code",
   "execution_count": null,
   "id": "19bdf365-b0a0-40d9-a991-6f643390e90c",
   "metadata": {},
   "outputs": [],
   "source": [
    "qa_top.runn(\n",
    "    goal=lambda learner: learner.npoints > 100,\n",
    "    executor=client,\n",
    "    periodic_saving_folder='./data/gap',\n",
    "    interval=5*60\n",
    ")"
   ]
  },
  {
   "cell_type": "code",
   "execution_count": null,
   "id": "7995dd16-8d01-4947-aab0-082df7f8bc09",
   "metadata": {},
   "outputs": [],
   "source": [
    "qa_mn.runn(\n",
    "    goal=lambda learner: learner.npoints > 100,\n",
    "    executor=client,\n",
    "    periodic_saving_folder='./data/gap',\n",
    "    interval=5*60\n",
    ")"
   ]
  },
  {
   "cell_type": "code",
   "execution_count": null,
   "id": "01f06140-5355-4480-8d2c-2d15f4fb7791",
   "metadata": {},
   "outputs": [],
   "source": [
    "qa_top.save('./data/gap')\n",
    "qa_mn.save('./data/gap')"
   ]
  },
  {
   "cell_type": "markdown",
   "id": "5dee1a9a-a0be-4eaf-bf18-90d16f5f4e2c",
   "metadata": {},
   "source": [
    "---\n",
    "---"
   ]
  },
  {
   "cell_type": "markdown",
   "id": "619b563c-2a4d-4456-b269-f71013bf7cff",
   "metadata": {
    "tags": []
   },
   "source": [
    "# 2D model: $FOM(M_z,\\mu)$"
   ]
  },
  {
   "cell_type": "code",
   "execution_count": null,
   "id": "bbbd7f43-c41e-4740-8d2e-0868665ae4e2",
   "metadata": {},
   "outputs": [],
   "source": [
    "executor = client.executor()\n",
    "job = executor.submit(funcs.get_fig_of_merit, a=4, a_z=4, T=4, W=250, delta=0.001, m_z=0.01, \n",
    "                      mu=0, h_mode=1, p_mode=0, get_delta=True, num_bands=30, k_points=800, sym=False, u_B=-.1, u_T=-.1 )"
   ]
  },
  {
   "cell_type": "code",
   "execution_count": null,
   "id": "3ca80f5b-77b1-4251-bde9-6dda97b91115",
   "metadata": {},
   "outputs": [],
   "source": [
    "res = job.result()"
   ]
  },
  {
   "cell_type": "code",
   "execution_count": null,
   "id": "0c7ea336-1805-4482-8e2c-3afa4becda92",
   "metadata": {},
   "outputs": [],
   "source": [
    "Es = res['Es']\n",
    "ks = res['ks']\n",
    "nu_prop_modes = res['nu_prop_modes']\n",
    "energies_prop_modes = res['energies_prop_modes']\n",
    "E_u = res['E_u']\n",
    "E_l = res['E_l']\n",
    "E_gap = res['E_gap']\n",
    "mu_u = res['mu_u']\n",
    "mu_l = res['mu_l']\n",
    "mu_gap = res['mu_gap']\n",
    "gap_u = res['gap_u']"
   ]
  },
  {
   "cell_type": "code",
   "execution_count": null,
   "id": "c446491e-1208-4ce9-a25c-c2c860a509bf",
   "metadata": {},
   "outputs": [],
   "source": [
    "#plt.plot(res[0], res[1],\"k.\");\n",
    "plt.plot(ks, Es, \"k.\");\n",
    "plt.ylim(-.15,.15)"
   ]
  },
  {
   "cell_type": "markdown",
   "id": "872be525-082c-43b7-866d-74e9a7ee05f4",
   "metadata": {
    "jp-MarkdownHeadingCollapsed": true,
    "tags": []
   },
   "source": [
    "### cross section"
   ]
  },
  {
   "cell_type": "code",
   "execution_count": null,
   "id": "981ffbf3-103e-4fa9-a472-2cba5d67b708",
   "metadata": {},
   "outputs": [],
   "source": [
    "#Make cross section\n",
    "params_3D = dict(\n",
    "    a=[-1],   # this will be reset by get_correct_lattice_constant\n",
    "    a_z=[10], # a_z=T/a_z in the code\n",
    "    T=[100],\n",
    "    W=[500],\n",
    "    delta=[0],\n",
    "    m_z=[0, 0.1],\n",
    "    mu=[0], \n",
    "    h_mode=[0],\n",
    "    get_delta=[False],\n",
    "    p_mode=[0],\n",
    "    num_bands=[100],\n",
    "    k_points=[400]  # gives an error of about 3.33 * 0.12 / 800 = 0.5 meV, max(A_0) * k_max/k_points\n",
    "    )\n",
    "\n",
    "qa_gap = tools.QuickAdptive(\n",
    "    funcs.get_fig_of_merit,\n",
    "    fname_prefix='data_learner_two_gaps_',\n",
    "    learner_bounds_names=['m_z'],\n",
    "    arg_picker=itemgetter('E_u'),\n",
    "    **params_3D\n",
    ")"
   ]
  },
  {
   "cell_type": "markdown",
   "id": "cbab795e-f71a-4b02-8429-dcc2fa88f288",
   "metadata": {
    "jp-MarkdownHeadingCollapsed": true,
    "tags": []
   },
   "source": [
    "### ONLY $E_{u/l}$"
   ]
  },
  {
   "cell_type": "code",
   "execution_count": null,
   "id": "ef560dfa-7cf8-4677-a05f-8b14dae97d89",
   "metadata": {},
   "outputs": [],
   "source": [
    "params_3D = dict(\n",
    "    a=[10],   # this will be reset by get_correct_lattice_constant\n",
    "    a_z=[10], # a_z=T/a_z in the code\n",
    "    T=[4],\n",
    "    W=[500],\n",
    "    delta=[0],\n",
    "    m_z=[0, 0.05],\n",
    "    mu=[0], \n",
    "    h_mode=[1],\n",
    "    p_mode=[0],    \n",
    "    get_delta=[False],\n",
    "    num_bands=[50],\n",
    "    k_points=[800],  # gives an error of about 3.33 * 0.12 / 800 = 0.5 meV, max(A_0) * k_max/k_points\n",
    "    sym=[False]\n",
    "    )"
   ]
  },
  {
   "cell_type": "markdown",
   "id": "5fff8fef-4bb0-418a-bb0f-869da91ec4a4",
   "metadata": {
    "jp-MarkdownHeadingCollapsed": true,
    "tags": []
   },
   "source": [
    "### $E_{u/l}$ and $\\Delta_{ind}$ "
   ]
  },
  {
   "cell_type": "code",
   "execution_count": null,
   "id": "67a0fb2d-6682-4572-9f6e-c1c2d03b2357",
   "metadata": {},
   "outputs": [],
   "source": [
    "params_2D = dict(\n",
    "    a=[4],   # this will be reset by get_correct_lattice_constant\n",
    "    a_z=[4], # a_z=T/a_z in the code\n",
    "    T=[6],\n",
    "    W=[500],\n",
    "    delta=[0.001],\n",
    "    m_z=[0.001, 0.08],\n",
    "    mu=[-100], \n",
    "    h_mode=[1],\n",
    "    p_mode=[2],\n",
    "    get_delta=[True],\n",
    "    num_bands=[30],  # for p_mode=0,1 this has to be \n",
    "    k_points=[3000], # gives an error of about 1 * 0.3 / 1500 = 0.2 meV, hv_F * k_max/k_points\n",
    "    sym=[False],\n",
    "    u_B=[0],\n",
    "    u_T=[0]    \n",
    "    )"
   ]
  },
  {
   "cell_type": "code",
   "execution_count": null,
   "id": "d5c9d4ee-008b-4594-9540-57456eaacd0b",
   "metadata": {},
   "outputs": [],
   "source": [
    "qa_gap = tools.QuickAdptive(\n",
    "    funcs.get_fig_of_merit,\n",
    "    fname_prefix='data_learner_two_gaps_',\n",
    "    learner_bounds_names=['m_z'],\n",
    "    arg_picker=itemgetter('E_u'),\n",
    "    **params_2D\n",
    ")\n",
    "qa_gap.load('./data/gap')\n",
    "\n",
    "qa_gap.learner.strategy = \"npoints\""
   ]
  },
  {
   "cell_type": "code",
   "execution_count": null,
   "id": "4e6adb07-03be-41cf-a7d1-563abacc3e96",
   "metadata": {},
   "outputs": [],
   "source": [
    "qa_gap.runner.task.result()"
   ]
  },
  {
   "cell_type": "code",
   "execution_count": null,
   "id": "3cd673ee-4cb8-43e4-9c0f-29f80757a95d",
   "metadata": {},
   "outputs": [],
   "source": [
    "qa_gap.runn(\n",
    "    goal=lambda learner: learner.npoints > len(params_2D['p_mode'])*len(params_2D['T'])*20,\n",
    "    executor=client2,\n",
    "    periodic_saving_folder='./data/gap',\n",
    "    interval=10*60\n",
    ")"
   ]
  },
  {
   "cell_type": "code",
   "execution_count": null,
   "id": "72d2e0fc-d1c6-4b83-aebc-710a1332b574",
   "metadata": {},
   "outputs": [],
   "source": [
    "qa_gap.runner.live_info()"
   ]
  },
  {
   "cell_type": "code",
   "execution_count": null,
   "id": "02d22df3-27a7-47cf-bdb5-8630474ec8b5",
   "metadata": {},
   "outputs": [],
   "source": [
    "qa_gap.save('./data/gap')"
   ]
  },
  {
   "cell_type": "code",
   "execution_count": null,
   "id": "ad3b65d6-bb79-4a86-8310-f4196d926138",
   "metadata": {},
   "outputs": [],
   "source": [
    "executor = client.executor()\n",
    "job = executor.submit(funcs.get_fig_of_merit, a=4, a_z=4, T=2, W=500, delta=0.001, m_z=0, mu=mu1, h_mode=1, p_mode=0, get_delta=True, num_bands=30, k_points=3000, sym=False)"
   ]
  },
  {
   "cell_type": "code",
   "execution_count": null,
   "id": "b55f40ea-c179-4f1c-8d79-c450fa8803bf",
   "metadata": {},
   "outputs": [],
   "source": [
    "param_pos = 0*6+(2-1)\n",
    "H_params = funcs.H_eff_parameters[param_pos]\n",
    "m0   = H_params['Delta']/2\n",
    "m1   = H_params['B']\n",
    "D    = H_params['D']\n",
    "v_F  = H_params['v_F']\n",
    "\n",
    "mu0 = -(m_z)*D/m1 #for large magnetization the interesting physics will be around the chiral edge mode\n",
    "mu1 = -(m_z)*D/m1 + (D*m1)/abs(D*m1)*abs(m_z) #otherwise find the middle of the gap"
   ]
  },
  {
   "cell_type": "code",
   "execution_count": null,
   "id": "244c4fab-96f0-43b8-9066-d80f2416140f",
   "metadata": {},
   "outputs": [],
   "source": [
    "res = job.result()"
   ]
  },
  {
   "cell_type": "code",
   "execution_count": null,
   "id": "1d0531c6-dd5b-4318-bece-fcdcfede26a4",
   "metadata": {},
   "outputs": [],
   "source": [
    "#res['E_gap']\n",
    "ks, Es = res\n",
    "for i in range(len(Es)):\n",
    "    plt.plot(ks[i]*np.ones(len(Es[i])), Es[i],\".\")\n",
    "    \n",
    "plt.plot([0,1.2],[mu0]*2,\"g--\")\n",
    "plt.plot([0,1.2],[mu1]*2,\"r--\")"
   ]
  },
  {
   "cell_type": "code",
   "execution_count": null,
   "id": "ca8376a9-92c7-430a-b9f3-83f5a084bce4",
   "metadata": {},
   "outputs": [],
   "source": [
    "qa_gap.learner.learners[j].to_dataframe()['extra_data'][i]['E_gap']# = res['E_gap']"
   ]
  },
  {
   "cell_type": "code",
   "execution_count": null,
   "id": "bd589116-e023-45ac-90ea-9c38e0b44f5a",
   "metadata": {
    "scrolled": true
   },
   "outputs": [],
   "source": [
    "j = 0\n",
    "\n",
    "which_data = \"E_u\"\n",
    "\n",
    "x = qa_gap.learner.learners[j].to_dataframe()['x'].values\n",
    "y = qa_gap.learner.learners[j].to_dataframe()['y'].values\n",
    "minn = -0.07#085\n",
    "maxx = 0.11\n",
    "iis = []\n",
    "output = []\n",
    "for i in range(len(x)):\n",
    "    m_z = x[i]\n",
    "    T = y[i]\n",
    "    if minn< x[i] < maxx:\n",
    "        iis.append(i)\n",
    "        gap_u = qa_gap.learner.learners[j].to_dataframe()['extra_data'][i]['gap_u']\n",
    "        E_u= qa_gap.learner.learners[j].to_dataframe()['extra_data'][i]['E_u']\n",
    "        gap_l = qa_gap.learner.learners[j].to_dataframe()['extra_data'][i]['gap_l']\n",
    "        E_l= qa_gap.learner.learners[j].to_dataframe()['extra_data'][i]['E_l']\n",
    "        E_gap = qa_gap.learner.learners[j].to_dataframe()['extra_data'][i]['E_gap']        \n",
    "        output.append(qa_gap.learner.learners[j].to_dataframe()['extra_data'][i][which_data])\n",
    "        print(i, m_z, output[-1])\n",
    "\n",
    "#print(np.round(E_u,3), np.round(mu_u,3), mn_u)"
   ]
  },
  {
   "cell_type": "code",
   "execution_count": null,
   "id": "77e10940-1585-4d7f-ad39-5236a1432dd6",
   "metadata": {},
   "outputs": [],
   "source": [
    "### plt.plot(x_old,output_old,\"r-\")\n",
    "#plt.plot(x[iis],np.array(output1)*np.array(output2),\"b-\")\n",
    "plt.plot(x[iis],output,\"b-\")\n",
    "#plt.ylim(0,1e-6)\n",
    "#plt.plot(x[iis],new_data,\"r-\")\n",
    "\n",
    "#plt.yscale('log')\n",
    "#plt.plot([np.pi*3/250]*2,[-1,1],\"b--\",label=\"beta\")\n",
    "#plt.plot([np.sqrt((np.pi*3/250)**2+0.0035**2)]*2,[-1,1],\"r:\",label=\"sqrt(m_0^2+beta^2)\")\n",
    "#plt.legend();\n",
    "#plt.ylim(0,0.025)"
   ]
  },
  {
   "cell_type": "code",
   "execution_count": null,
   "id": "2b307ac4-9bd3-4b40-9c80-a25517acb48e",
   "metadata": {},
   "outputs": [],
   "source": [
    "xi = qa_gap.learner.learners[j].to_dataframe()['x']\n",
    "new_data=np.exp(-x[iis]*500/v_F)*.00001\n",
    "    #qa_gap.learner.learners[j].to_dataframe()['extra_data'][i][which_data] = 0#y0 + (y1-y0)*(xi-x0)/(x1-x0)"
   ]
  },
  {
   "cell_type": "code",
   "execution_count": null,
   "id": "9b233bfd-ef39-4873-acda-31795e927698",
   "metadata": {},
   "outputs": [],
   "source": [
    "i = 51\n",
    "\n",
    "#for i in range(36):\n",
    "Es = qa_gap.learner.learners[j].to_dataframe()[\"extra_data\"][i]['Es']\n",
    "ks = qa_gap.learner.learners[j].to_dataframe()[\"extra_data\"][i]['ks']\n",
    "nu_prop_modes = qa_gap.learner.learners[j].to_dataframe()[\"extra_data\"][i]['nu_prop_modes']\n",
    "energies_prop_modes = qa_gap.learner.learners[j].to_dataframe()[\"extra_data\"][i]['energies_prop_modes']\n",
    "E_u = qa_gap.learner.learners[j].to_dataframe()[\"extra_data\"][i]['E_u']\n",
    "E_l = qa_gap.learner.learners[j].to_dataframe()[\"extra_data\"][i]['E_l']\n",
    "E_gap = qa_gap.learner.learners[j].to_dataframe()[\"extra_data\"][i]['E_gap']\n",
    "mu_u = qa_gap.learner.learners[j].to_dataframe()[\"extra_data\"][i]['mu_u']\n",
    "mu_l = qa_gap.learner.learners[j].to_dataframe()[\"extra_data\"][i]['mu_l']\n",
    "mu_gap = qa_gap.learner.learners[j].to_dataframe()[\"extra_data\"][i]['mu_gap']\n",
    "mn_u = qa_gap.learner.learners[j].to_dataframe()[\"extra_data\"][i]['mn_u']\n",
    "mn_l = qa_gap.learner.learners[j].to_dataframe()[\"extra_data\"][i]['mn_l']\n",
    "\n",
    "bands = qa_gap.learner.to_dataframe()[\"extra_data\"][i]['bands']\n",
    "ks_bands = qa_gap.learner.to_dataframe()[\"extra_data\"][i]['ks_bands']\n",
    "\n",
    "print(x[i], E_u)"
   ]
  },
  {
   "cell_type": "code",
   "execution_count": null,
   "id": "62a3ade5-898d-4dd3-899b-0bfaeb8db0d6",
   "metadata": {},
   "outputs": [],
   "source": [
    "mu_u"
   ]
  },
  {
   "cell_type": "code",
   "execution_count": null,
   "id": "444d49a4-709b-4a2c-8ea7-30acd06854da",
   "metadata": {},
   "outputs": [],
   "source": [
    "param_pos = params_2D['p_mode'][0]*6+(params_2D['T'][j]-1)\n",
    "H_params = funcs.H_eff_parameters[param_pos]\n",
    "m0   = H_params['Delta']/2\n",
    "m1   = H_params['B']\n",
    "D    = H_params['D']\n",
    "v_F  = H_params['v_F']\n",
    "m_z  = x[i]\n",
    "\n",
    "#mu0 = (m0-m_z)*D/m1 #for large magnetization the interesting physics will be around the chiral edge mode\n",
    "#mu1 = (m0-m_z)*D/m1 + (D*m1)/abs(D*m1)*abs(m_z) #otherwise find the middle of the gap\n",
    "\n",
    "if abs(m_z) > abs(m0) or m0*m1 > 0:\n",
    "    mu0 = (m0-m_z)*D/m1 #for large magnetization the interesting physics will be around the chiral edge mode\n",
    "else:\n",
    "    mu0 = 0"
   ]
  },
  {
   "cell_type": "code",
   "execution_count": null,
   "id": "6a96483a-cf2e-4115-80e2-8e8d4dab316d",
   "metadata": {},
   "outputs": [],
   "source": [
    "fig, ax = plt.subplots(1,1,figsize=(8,6))\n",
    "#ks = np.linspace(0,20,len(Es))\n",
    "for k in np.arange(len(Es)):\n",
    "#    plt.plot(ks_bands[i],bands[i],'k.')\n",
    "    plt.plot(ks[k]*np.ones(len(Es[k]))*10,Es[k],'k.',ms=2,markeredgewidth=0)\n",
    "    \n",
    "plt.plot(np.array(nu_prop_modes),energies_prop_modes,c='b',label='Prop. modes');\n",
    "\n",
    "plt.plot(np.ones(2)*0.1,[mu_gap-E_gap/2,mu_gap+E_gap/2],\"c-\",lw=5,label='$E_{gap}$')\n",
    "plt.plot(np.ones(2),[mu_u-E_u/2,mu_u+E_u/2],\"r-\",lw=5,label='$E_u$')\n",
    "plt.plot(np.ones(2),[mu_l-E_l/2,mu_l+E_l/2],\"g-\",lw=5,label='$E_l$')\n",
    "\n",
    "#plt.plot([0,20],np.ones(2)*m0,\"g:\")\n",
    "#plt.plot([0,20],np.ones(2)*-mu1,\"r:\")\n",
    "\n",
    "    \n",
    "d = (mu_u-mu_l)*.7\n",
    "plt.xlim(0,d*200);\n",
    "plt.ylim(mu_l-d, mu_u+d)\n",
    "\n",
    "plt.xlim(0,10);\n",
    "plt.ylim(-.15,.1);\n",
    "#plt.ylim(.1,.12);\n",
    "plt.legend(loc='best');\n",
    "plt.title('M_z='+str(x[i]))\n",
    "plt.grid();"
   ]
  },
  {
   "cell_type": "markdown",
   "id": "4d926626-1511-4693-8701-31c7147af9b8",
   "metadata": {
    "tags": []
   },
   "source": [
    "## 2D model: $\\Delta_{ind}(M_z, \\mu)$"
   ]
  },
  {
   "cell_type": "code",
   "execution_count": null,
   "id": "13a30d57-cf11-40d8-bd20-b948a6740207",
   "metadata": {},
   "outputs": [],
   "source": [
    "M0 =-0.005\n",
    "M1 =15\n",
    "D  =-14\n",
    "syst_W = 500\n",
    "u_B=0"
   ]
  },
  {
   "cell_type": "code",
   "execution_count": null,
   "id": "8f2e01b6-0fd6-4b03-ae42-5bd068b19731",
   "metadata": {},
   "outputs": [],
   "source": [
    "params_Chen = dict(mu_leads=0,\n",
    "                   mu_sys=0,\n",
    "                   hbar=1,\n",
    "                   v_F=3,\n",
    "                   m0=M0,\n",
    "                   m1=M1,\n",
    "                   D=D,\n",
    "                   u_T=u_B,\n",
    "                   u_B=u_B,\n",
    "                   S_imp=0,\n",
    "                 )"
   ]
  },
  {
   "cell_type": "code",
   "execution_count": null,
   "id": "97961000-f180-4474-929c-abcf632539b8",
   "metadata": {},
   "outputs": [],
   "source": [
    "which_param = 'Mz'\n",
    "#which_param = 'W'\n",
    "\n",
    "max_Mz = 0.045\n",
    "max_mu = 0.05\n",
    "\n",
    "if which_param == 'W':\n",
    "    p_bounds = [200,1500]\n",
    "else:\n",
    "    p_bounds = [0,max_Mz]\n",
    "#if D == 0:\n",
    "mu_bounds = [-u_B/2-max_mu,-u_B/2+max_mu]#(-max_mu+(M0-Mz)*D/M1,max_mu+(M0-Mz)*D/M1)\n",
    "#else:\n",
    "#    mu_bounds = [-u_B/2-max_mu+0.005,-u_B/2+max_mu+0.005]#(-max_mu+(M0-Mz)*D/M1,max_mu+(M0-Mz)*D/M1)\n",
    "\n",
    "npoints = 10000"
   ]
  },
  {
   "cell_type": "code",
   "execution_count": null,
   "id": "a01ea67b-ec10-40f8-ac22-d7a2d82e0a85",
   "metadata": {},
   "outputs": [],
   "source": [
    "#mu_bounds = [-.1,.1]"
   ]
  },
  {
   "cell_type": "code",
   "execution_count": null,
   "id": "91f97407-ca72-45d6-8c27-5ef573a84b17",
   "metadata": {},
   "outputs": [],
   "source": [
    "#mu_bounds = [-u_B/2-max_mu,-0.013]\n",
    "#p_bounds = [0,0.005]\n",
    "#mu_bounds = [-.04,.04]"
   ]
  },
  {
   "cell_type": "code",
   "execution_count": null,
   "id": "d5b25296-477a-4b04-bcad-0b39404ffc84",
   "metadata": {},
   "outputs": [],
   "source": [
    "params_2D = dict(\n",
    "    a=[4],\n",
    "    a_z=[4],\n",
    "    T=[1],\n",
    "    W=[syst_W],\n",
    "    mu=mu_bounds,\n",
    "    m_z=p_bounds,\n",
    "    delta=[0.001],\n",
    "    h_mode=[1],\n",
    "    params=[params_Chen],\n",
    "    )"
   ]
  },
  {
   "cell_type": "code",
   "execution_count": null,
   "id": "19b987af-9ef3-4ad1-9c71-33e73c5ed8ba",
   "metadata": {},
   "outputs": [],
   "source": [
    "params_app = params_2D.copy()\n",
    "params_app['m_z'] = [0.04]\n",
    "params_app['mu'] = [-.045,.055]\n",
    "#params_app['mu'] = [.032,.034]\n",
    "#params_app['mu'] = [.032,.055]"
   ]
  },
  {
   "cell_type": "code",
   "execution_count": null,
   "id": "486de205-4459-43d0-ba22-8c65ea7bc5a9",
   "metadata": {},
   "outputs": [],
   "source": [
    "executor = client.executor()\n",
    "job = executor.submit(funcs.gap_search_k, a=4, a_z=4, T=1, W=syst_W, mu=0.025, m_z=.03, delta=0.001, h_mode=1, params=params_Chen )"
   ]
  },
  {
   "cell_type": "code",
   "execution_count": null,
   "id": "64177ad7-81db-45fd-90cd-70f71a4a0979",
   "metadata": {},
   "outputs": [],
   "source": [
    "res = job.result()"
   ]
  },
  {
   "cell_type": "code",
   "execution_count": null,
   "id": "6da3bdc3-bb20-4eda-b94c-6eeec05ce519",
   "metadata": {},
   "outputs": [],
   "source": [
    "qa_ph = tools.QuickAdptive(\n",
    "    funcs.get_modes,\n",
    "    fname_prefix='data_learner_modes_',\n",
    "    learner_bounds_names=['m_z', 'mu'],\n",
    "    arg_picker=itemgetter('modes'),\n",
    "    **params_2D\n",
    ")\n",
    "\n",
    "qa_top = tools.QuickAdptive(\n",
    "    funcs.gap_search_k,\n",
    "    fname_prefix='data_learner_gap_new_',\n",
    "    learner_bounds_names=['m_z', 'mu'],\n",
    "    arg_picker=itemgetter('gap'),\n",
    "    **params_2D\n",
    ")\n",
    "\n",
    "qa_mn = tools.QuickAdptive(\n",
    "    funcs.calculate_majorana_num,\n",
    "    fname_prefix='data_learner_mn_',\n",
    "    learner_bounds_names=['m_z', 'mu'],\n",
    "    arg_picker=itemgetter('mn'),\n",
    "    **params_2D\n",
    ")"
   ]
  },
  {
   "cell_type": "code",
   "execution_count": null,
   "id": "50f741b0-9e73-47d4-afba-54ae26446f80",
   "metadata": {},
   "outputs": [],
   "source": [
    "qa_ph = tools.QuickAdptive(\n",
    "    funcs.get_modes,\n",
    "    fname_prefix='data_learner_modes_',\n",
    "    learner_bounds_names=['mu'],\n",
    "    arg_picker=itemgetter('modes'),\n",
    "    **params_app\n",
    ")\n",
    "\n",
    "qa_top = tools.QuickAdptive(\n",
    "    funcs.gap_search_k,\n",
    "    fname_prefix='l_g_',\n",
    "    learner_bounds_names=['mu'],\n",
    "    arg_picker=itemgetter('gap_log'),\n",
    "    **params_app\n",
    ")\n",
    "\n",
    "qa_mn = tools.QuickAdptive(\n",
    "    funcs.calculate_majorana_num,\n",
    "    fname_prefix='l_mn_',\n",
    "    learner_bounds_names=['mu'],\n",
    "    arg_picker=itemgetter('mn'),\n",
    "    **params_app\n",
    ")"
   ]
  },
  {
   "cell_type": "code",
   "execution_count": null,
   "id": "ba30f7b0-dc68-4fe9-bcfc-f2e6430a0e52",
   "metadata": {},
   "outputs": [],
   "source": [
    "qa_ph.load('./data/gap')\n",
    "qa_top.load('./data/gap')\n",
    "qa_mn.load('./data/gap')"
   ]
  },
  {
   "cell_type": "code",
   "execution_count": null,
   "id": "95c40112-d200-4f28-bc24-bd89d3cf7b38",
   "metadata": {},
   "outputs": [],
   "source": [
    "#qa_ph.runn(\n",
    "#    goal=lambda learner: learner.npoints > npoints,\n",
    "#    executor=client,\n",
    "#    periodic_saving_folder='./data/gap',\n",
    "#    interval=5*60\n",
    "#)"
   ]
  },
  {
   "cell_type": "code",
   "execution_count": null,
   "id": "3db04c25-94fd-4153-bff3-7e48cf163897",
   "metadata": {},
   "outputs": [],
   "source": [
    "npoints = 5000"
   ]
  },
  {
   "cell_type": "code",
   "execution_count": null,
   "id": "ad43763a-42e6-4746-82a8-5ff29d6a3b88",
   "metadata": {},
   "outputs": [],
   "source": [
    "qa_top.runn(\n",
    "    goal=lambda learner: learner.npoints > npoints,\n",
    "    executor=client,\n",
    "    periodic_saving_folder='./data/gap',\n",
    "    interval=5*60\n",
    ")"
   ]
  },
  {
   "cell_type": "code",
   "execution_count": null,
   "id": "bfa9d9b5-9ddf-408e-802a-abbe0adc8505",
   "metadata": {},
   "outputs": [],
   "source": [
    "qa_mn.runn(\n",
    "    goal=lambda learner: learner.npoints > npoints,\n",
    "    executor=client,\n",
    "    periodic_saving_folder='./data/gap',\n",
    "    interval=5*60\n",
    ")"
   ]
  },
  {
   "cell_type": "code",
   "execution_count": null,
   "id": "6b750f71-b7a7-45c4-8603-ca8c1746a800",
   "metadata": {},
   "outputs": [],
   "source": [
    "#qa_ph.runner.live_info()\n",
    "qa_top.runner.live_info()\n",
    "qa_mn.runner.live_info()"
   ]
  },
  {
   "cell_type": "markdown",
   "id": "6035fd09-7f79-4d74-aa78-d6329fe72c3b",
   "metadata": {
    "jp-MarkdownHeadingCollapsed": true,
    "tags": []
   },
   "source": [
    "## Analytical Mz"
   ]
  },
  {
   "cell_type": "code",
   "execution_count": null,
   "id": "e38c4d0d-5e15-4fe4-9141-58f3b126760f",
   "metadata": {},
   "outputs": [],
   "source": [
    "from matplotlib.patches import Rectangle"
   ]
  },
  {
   "cell_type": "code",
   "execution_count": null,
   "id": "2d7b6696-846a-4b7a-affa-f6a6bbb5cf60",
   "metadata": {},
   "outputs": [],
   "source": [
    "e_plot = qa_top.learner.learners[0].to_numpy()[:,0]\n",
    "delta_plot  = np.array([i['gap'] for i in qa_top.learner.learners[0].to_dataframe()['extra_data']])/params_app['delta'][0]\n",
    "\n",
    "e_plot_mn = qa_mn.learner.learners[0].to_numpy()[:,0]\n",
    "mn_plot  = np.array([i['mn'] for i in qa_mn.learner.learners[0].to_dataframe()['extra_data']])"
   ]
  },
  {
   "cell_type": "code",
   "execution_count": null,
   "id": "5daf1ddc-4e46-4742-9d89-0d1dc2ef16f9",
   "metadata": {},
   "outputs": [],
   "source": [
    "v  = params_app['params'][0]['v_F']\n",
    "MZ = params_app['m_z'][0]\n",
    "W  = params_app['W'][0]\n",
    "DD = -14\n",
    "g  = np.sqrt((M1+DD)/(M1-DD))\n",
    "alpha = DD/M1\n",
    "\n",
    "Es = np.linspace(params_app['mu'][0],0.032,100)\n",
    "ks = (Es+(M0+MZ)*DD/M1)/(-v*np.sqrt(1-DD**2/M1**2))\n",
    "kappa_asym = (M0+MZ)/v*np.sqrt(1-DD**2/M1**2)-D*ks/M1-M1/v*np.sqrt(1-DD**2/M1**2)*ks**2\n",
    "\n",
    "#delta_asym = 2*kappa_asym*W*1/(np.exp(kappa_asym*W)-np.exp(-kappa_asym*W))*g/(1+g**2)\n",
    "#delta_asym = 2*kappa_asym*W*np.exp(-kappa_asym*W)*g/(1+g**2)\n",
    "delta_asym = kappa_asym*W*np.exp(-kappa_asym*W)*np.sqrt(1-alpha**2)"
   ]
  },
  {
   "cell_type": "code",
   "execution_count": null,
   "id": "32cc9038-1a6b-4c15-991c-be95bf3c6c98",
   "metadata": {},
   "outputs": [],
   "source": [
    "fig, ax = plt.subplots(1,1,figsize=(3.5,1.75),layout='constrained')\n",
    "\n",
    "boundaries = [-.1]+list(np.array(e_plot_mn[:-1])[np.array([mn_plot[i]!=mn_plot[i+1] for i in range(len(mn_plot)-1)])])+[.1]\n",
    "for i in np.arange(len(boundaries)-1):\n",
    "    ax.add_patch(Rectangle((1e3*boundaries[i],1e-12),1e3*(boundaries[i+1]-boundaries[i]),1e2,color=[\"r\",\"k\"][(i-1)%2],alpha=.2,lw=0))\n",
    "\n",
    "ax.plot(1e3*np.array(params_app['mu']),[1,1],\"darkgrey\",ls=\"-\",lw=1);\n",
    "\n",
    "ax.plot([1e3*(-D*(M0+params_app['m_z'][0])/M1)]*2,[1e-12,1e2],\"g--\",label=\"$E_\\\\text{DP}^+$\",lw=1)\n",
    "ax.plot([1e3*(M0+params_app['m_z'][0])]*2,[1e-12,1e2],\"k--\",lw=1,label=\"$\\\\pm|m_0+M_z|$\")\n",
    "ax.plot([1e3*(-M0-params_app['m_z'][0])]*2,[1e-12,1e2],\"k--\",lw=1)\n",
    "ax.plot(1e3*e_plot,delta_plot,\"r-\",lw=1,label=\"Numerical\")\n",
    "#if(params_app['m_z'][0] == 0.03):\n",
    "    #delta_an = delta_an_Mz30\n",
    "    #ax.plot(np.linspace(-.1,.1,201)[np.linspace(-.1,.1,201)<0.02105],np.array(delta_an)[np.linspace(-.1,.1,201)<0.02105],\"-\",lw=2,label=\"Analytical\")\n",
    "#elif(params_app['m_z'][0] == 0.04):\n",
    "    #delta_an = delta_an_Mz40\n",
    "    #ax.plot(np.linspace(-.1,.1,201)[np.linspace(-.1,.1,201)<0.0318],np.array(delta_an)[np.linspace(-.1,.1,201)<0.0318],\"-\",lw=2,label=\"Analytical\")\n",
    "#else:\n",
    "#    delta_an = delta_an_Mz80\n",
    "ax.plot(1e3*Es[1/kappa_asym*2.5<W],delta_asym[1/kappa_asym*2.5<W],\"b-\",lw=1,label=\"Analytical\")\n",
    "ax.set_xlabel(\"$\\\\mu$ [meV]\")\n",
    "ax.set_ylabel(\"$\\\\Delta_{\\\\mathrm{ind}}/\\\\Delta_0$\")\n",
    "ax.set_xlim(1e3*np.array(params_app['mu']))\n",
    "ax.set_ylim(1e-4,1e1)\n",
    "ax.legend(loc='upper left',frameon=True,fontsize=8)\n",
    "ax.set_yscale('log')\n",
    "\n",
    "caption = ['(c)']\n",
    "for i in range(len(caption)):\n",
    "    if i == 0:\n",
    "        sshift = -0.15\n",
    "    else:\n",
    "        sshift = -0.15\n",
    "    ax.text(\n",
    "        sshift, .985, \n",
    "        caption[i],\n",
    "        transform=ax.transAxes)\n",
    "plt.savefig(\"deltaind_num_v_analyt_Mz\"+str(+params_app['m_z'][0])+\".png\",dpi=300)\n",
    "plt.savefig(\"deltaind_num_v_analyt_Mz\"+str(+params_app['m_z'][0])+\".pdf\",bbox_inches='tight')"
   ]
  },
  {
   "cell_type": "code",
   "execution_count": null,
   "id": "6bc99fc7-aa80-438c-9751-aa9823c04c76",
   "metadata": {},
   "outputs": [],
   "source": [
    "qa_ph.save('./data/gap')\n",
    "qa_top.save('./data/gap')\n",
    "qa_mn.save('./data/gap')"
   ]
  },
  {
   "cell_type": "markdown",
   "id": "c1ed5783-44c1-425a-a490-99fa022a8d4f",
   "metadata": {},
   "source": [
    "---"
   ]
  },
  {
   "cell_type": "code",
   "execution_count": null,
   "id": "3976980f-f3e6-41b5-9b3a-e934a2076f9b",
   "metadata": {},
   "outputs": [],
   "source": [
    "#executor = client.executor()"
   ]
  },
  {
   "cell_type": "code",
   "execution_count": null,
   "id": "357a3fec-2f49-448a-8117-794fc7b27d21",
   "metadata": {},
   "outputs": [],
   "source": [
    "#import funcs"
   ]
  },
  {
   "cell_type": "code",
   "execution_count": null,
   "id": "ce5d95b2-211d-44de-9e43-922fcd505c89",
   "metadata": {},
   "outputs": [],
   "source": [
    "#job = executor.submit(funcs.sigma_z_expec_value,10,20/30,20,200,0,0,0.1,0,0,0,0,0)"
   ]
  },
  {
   "cell_type": "code",
   "execution_count": null,
   "id": "2d944cf2-2903-49b7-ba15-adca84b92f88",
   "metadata": {},
   "outputs": [],
   "source": [
    "#Res = job.result()"
   ]
  },
  {
   "cell_type": "code",
   "execution_count": null,
   "id": "afa9d386-b5e8-4216-abf7-090b864a9e29",
   "metadata": {},
   "outputs": [],
   "source": [
    "#Res"
   ]
  },
  {
   "cell_type": "code",
   "execution_count": null,
   "id": "ec00759c-06fa-405f-8bb0-f62fcc080849",
   "metadata": {},
   "outputs": [],
   "source": [
    "E_k0 = E_k0.real\n",
    "    wfs_k0 = wfs_k0[:, E_k0 > 0]\n",
    "    E_k0 = E_k0[E_k0 > 0]\n",
    "    rhos = get_rhos(lead, sum=True)\n",
    "    rhos_p_k0 = np.array([rhos['p'](wf) for wf in wfs_k0.T])\n",
    "    rhos_h_k0 = np.array([rhos['h'](wf) for wf in wfs_k0.T])\n",
    "    densitys_ph = rhos_p_k0 - rhos_h_k0\n",
    "    fist_h_band_index = np.argmax(densitys_ph > 0)\n",
    "    fist_h_band_E = E_k0[fist_h_band_index]#Res[0]"
   ]
  },
  {
   "cell_type": "code",
   "execution_count": null,
   "id": "3931d0eb-612f-4cfc-8e32-d1a4f3525644",
   "metadata": {},
   "outputs": [],
   "source": [
    "b1, b2, g = funcs.gap_zero_k(10,30,48,200,0,0,-0.12,0,0,0,0,0)"
   ]
  },
  {
   "cell_type": "code",
   "execution_count": null,
   "id": "e7f6f815-aedf-456c-b0f1-ae4d7036797a",
   "metadata": {},
   "outputs": [],
   "source": [
    "b = funcs.gap_zero_k(10,30,50,200,0,0,0.15,0,0,0,0,0)"
   ]
  },
  {
   "cell_type": "code",
   "execution_count": null,
   "id": "d4031e39-210b-4166-89d0-b3c658b6e896",
   "metadata": {},
   "outputs": [],
   "source": [
    "data['x']import matplotlib.pyplot as plt\n",
    "import numpy as np"
   ]
  },
  {
   "cell_type": "code",
   "execution_count": null,
   "id": "c72afdbf-b32a-450b-a3f6-a10060c882b0",
   "metadata": {},
   "outputs": [],
   "source": [
    "#plt.plot(np.zeros(len(b1)),b1,\"X\")\n",
    "#plt.plot(np.ones(len(b2)),b2,\"X\")\n",
    "#plt.ylim(-0.04,-0.0375)"
   ]
  },
  {
   "cell_type": "code",
   "execution_count": null,
   "id": "82dc441b-7b6b-4267-8ea5-352be495fac4",
   "metadata": {},
   "outputs": [],
   "source": [
    "#b1[21], b1[20],b1[19],b1[18],b1[17]"
   ]
  },
  {
   "cell_type": "code",
   "execution_count": null,
   "id": "64782ccd-12d8-4264-b3c4-8acd70ce0490",
   "metadata": {},
   "outputs": [],
   "source": [
    "#b2[21],b2[20],b2[19],b2[18],b2[17]"
   ]
  },
  {
   "cell_type": "code",
   "execution_count": null,
   "id": "70bc3af1-1206-4a10-9b21-fb5519017a87",
   "metadata": {},
   "outputs": [],
   "source": [
    "qa_gap.runner.task.result()"
   ]
  },
  {
   "cell_type": "markdown",
   "id": "1a046956-72ce-4394-a183-99140423c546",
   "metadata": {},
   "source": [
    "---"
   ]
  },
  {
   "cell_type": "code",
   "execution_count": null,
   "id": "c43f8e7c-848c-459f-a04e-ca12f7020b31",
   "metadata": {},
   "outputs": [],
   "source": [
    "import holoviews as hvtop\n",
    "from holoviews import opts\n",
    "\n",
    "def get_plotter(xlabel='x', ylabel='y', clabel='G (e²/h)', clim=(0,0.005)):\n",
    "    def plotter(learner):    \n",
    "        plot = learner.plot(tri_alpha=0.2)\n",
    "        plot = plot.options(\n",
    "            opts.Image(\n",
    "                colorbar=True,\n",
    "                frame_height=400,\n",
    "                frame_width=400,\n",
    "                xlabel=xlabel,\n",
    "                clim=clim,\n",
    "                ylabel=ylabel,\n",
    "                clabel=clabel\n",
    "            )\n",
    "        )\n",
    "        return plot\n",
    "    return plotter"
   ]
  },
  {
   "cell_type": "code",
   "execution_count": null,
   "id": "b8eade6d-d372-4585-a0e7-e023e360917e",
   "metadata": {},
   "outputs": [],
   "source": [
    "from scipy.interpolate.interpnd import LinearNDInterpolator"
   ]
  },
  {
   "cell_type": "markdown",
   "id": "71bfb9f3-0838-492b-9a49-68c00b7ab9ea",
   "metadata": {
    "jp-MarkdownHeadingCollapsed": true,
    "tags": []
   },
   "source": [
    "## Plotters"
   ]
  },
  {
   "cell_type": "code",
   "execution_count": null,
   "id": "edc1c5ca-6c61-4192-af7f-2b6e93b9ba64",
   "metadata": {},
   "outputs": [],
   "source": [
    "import matplotlib.patches as mpatches\n",
    "def create_topological_simple(learner_inv,learner_gap,params,Max,replot):\n",
    "    \n",
    "    if not replot:    \n",
    "        gap_interploated=learner_gap.interpolated_on_grid(n=1000)\n",
    "        inv_interploated=learner_inv.interpolated_on_grid(n=1000)\n",
    "\n",
    "        top = inv_interploated[2] > 0\n",
    "        not_top = inv_interploated[2] < 0\n",
    "        x, y, z = gap_interploated[0], gap_interploated[1], gap_interploated[2]\n",
    "        \n",
    "        z_topological = z.copy()\n",
    "        z_topological[top] = -1\n",
    "        \n",
    "        z_not_topological = z.copy()\n",
    "        z_not_topological[not_top] = -1\n",
    "\n",
    "    else:\n",
    "        x = np.linspace(*p_bounds,1000)        \n",
    "        y = np.linspace(*mu_bounds,1000)\n",
    "        \n",
    "        z_topological_one = z_topological_one_replot\n",
    "        z_topological_odd = z_topological_odd_replot\n",
    "        z_not_topological_even = z_not_topological_even_replot   \n",
    "\n",
    "    fig, ax = plt.subplots(1,1,figsize=(6,6),layout='constrained')\n",
    "\n",
    "    im1 = ax.contourf(x,y,z_topological.T,vmin=0,vmax=Max,levels=np.append(np.linspace(0,Max,50),1),cmap=\"Reds\")#,params_Chen,0.0025)    \n",
    "    im3 = ax.contourf(x,y,z_not_topological.T,vmin=0,vmax=Max,levels=np.append(np.linspace(0,Max,50),1),cmap=\"gray_r\")#,params_Chen,0.0025)\n",
    "\n",
    "    cbar = fig.colorbar(im1, ax=ax,ticks=np.linspace(0,Max,5))\n",
    "    Max_Delta = np.round(Max/params[\"delta\"][0],1)\n",
    "    cbar.set_ticklabels( [str(np.round(n,2))+\"$\\\\Delta$\" for n in np.linspace(0,Max_Delta,5)])\n",
    "\n",
    "    ax.set_xlabel(\"$M_z$ [meV]\");\n",
    "    ax.set_ylabel(\"$\\mu$ [meV]\");\n",
    "    xs = np.linspace(p_bounds[0],.01*(p_bounds[1]//.01),int((p_bounds[1]-p_bounds[0])/.01)+1)\n",
    "    ax.set_xticks(xs);\n",
    "    ys = np.linspace(-.02-(mu_bounds[1]-mu_bounds[0])/2,.02+(mu_bounds[1]-mu_bounds[0])/2,int((.04+mu_bounds[1]-mu_bounds[0])/.01)+1)\n",
    "    ax.set_yticks(ys);\n",
    "    ax.set_ylim(*mu_bounds);\n",
    "\n",
    "    ax.set_xticklabels(labels=[str(int(np.round(1e3*el,0))) for el in xs]);    \n",
    "    ax.set_yticklabels(labels=[str(int(np.round(1e3*el,0))) for el in ys]);\n",
    "    \n",
    "    ax.plot([0,0.045],[0,-(params['params'][0]['m0']+0.045)*(params['params'][0]['D']/params['params'][0]['m1'])],'b-')\n",
    "    \n",
    "    ax.patch.set_facecolor('white')\n",
    "    \n",
    "    if(params['params'][0]['D'] != 0):\n",
    "        arr = mpatches.FancyArrowPatch((.02, .019), (.02, .032),\n",
    "                               arrowstyle='<->,head_width=.15', mutation_scale=20)\n",
    "        ax.add_patch(arr)\n",
    "        ax.annotate(\"$E_u$\", (3,0.3), xycoords=arr, ha='center', va='bottom')\n",
    "        \n",
    "        arr = mpatches.FancyArrowPatch((.02, -.024), (.02, .013),\n",
    "                               arrowstyle='<->,head_width=.15', mutation_scale=20)\n",
    "        ax.add_patch(arr)\n",
    "        ax.annotate(\"$E_l$\", (3,0.5), xycoords=arr, ha='center', va='bottom')\n",
    "#    else:\n",
    "    \n",
    "    if which_param == 'W':\n",
    "        ax.set_title(\"$M_z=\"+str(params['m_z'][0])+\"~eV,~m_0=\"+str(params['params'][0]['m0'])+\"~eV,~m_1=\"+str(params['params'][0][\"m1\"])+\"~eV\\AA^2,$\\n $\\Delta=\"+str(params[\"delta\"][0])+\"~eV~,D=\"+str(params['params'][0][\"D\"])+\"~eV\\AA^2~,u_B=\"+str(params['params'][0]['u_B'])+\"~eV$\", fontsize=fontsize);        \n",
    "        plt.savefig(\"phase/phase_simple_Mz\"+str(params['m_z'][0])+\"_m0\"+str(params['params'][0][\"m0\"])+\"_m1\"+str(params['params'][0][\"m1\"])+\"_Delta\"+str(params[\"delta\"][0])+\"_D\"+str(params['params'][0][\"D\"])+\"_u_B\"+str(params['params'][0]['u_B'])+\"_minp\"+str(p_bounds[0])+\"_maxp\"+str(p_bounds[1])+\".png\" ) \n",
    "    else:\n",
    "        ax.set_title(\"$L_y=\"+str(syst_W)+\"~\\AA,~m_0=\"+str(params['params'][0][\"m0\"])+\"~eV,~m_1=\"+str(params['params'][0][\"m1\"])+\"~eV\\AA^2,$\\n $\\Delta=\"+str(params[\"delta\"][0])+\"~eV~,D=\"+str(params['params'][0][\"D\"])+\"~eV\\AA^2~,u_B=\"+str(params['params'][0]['u_B'])+\"~eV$\", fontsize=fontsize);\n",
    "        plt.savefig(\"phase/phase_simple_Ly\"+str(syst_W)+\"_m0\"+str(params['params'][0][\"m0\"])+\"_m1\"+str(params['params'][0][\"m1\"])+\"_Delta\"+str(params[\"delta\"][0])+\"_D\"+str(params['params'][0][\"D\"])+\"_u_B\"+str(params['params'][0]['u_B'])+\"_minp\"+str(p_bounds[0])+\"_maxp\"+str(p_bounds[1])+\".png\" )     \n",
    "\n",
    "    if not replot:\n",
    "        if which_param == 'W':\n",
    "            np.save( arr=[z_topological, z_not_topological], file=\"phase/phase_Mz\"+str(params['m_z'][0])+\"_m0\"+str(params['params'][0][\"m0\"])+\"_m1\"+str(params['params'][0][\"m1\"])+\"_Delta\"+str(params[\"delta\"][0])+\"_D\"+str(params['params'][0][\"D\"])+\"_u_B\"+str(params['params'][0]['u_B'])+\"_minp\"+str(p_bounds[0])+\"_maxp\"+str(p_bounds[1])+\".npy\" )        \n",
    "        else:\n",
    "            np.save( arr=[z_topological, z_not_topological], file=\"phase/phase_Ly\"+str(syst_W)+\"_m0\"+str(params['params'][0][\"m0\"])+\"_m1\"+str(params['params'][0][\"m1\"])+\"_Delta\"+str(params[\"delta\"][0])+\"_D\"+str(params['params'][0][\"D\"])+\"_u_B\"+str(params['params'][0]['u_B'])+\"_minp\"+str(p_bounds[0])+\"_maxp\"+str(p_bounds[1])+\".npy\" )        \n"
   ]
  },
  {
   "cell_type": "code",
   "execution_count": null,
   "id": "be4af74a-cdf1-4bc8-baad-4efcd2de54ff",
   "metadata": {},
   "outputs": [],
   "source": [
    "import matplotlib.patches as mpatches\n",
    "def create_topological_double(linv1,lgap1,linv2,lgap2,params,Max):\n",
    "    \n",
    "    learner_inv=[linv1,linv2]\n",
    "    learner_gap=[lgap1,lgap2]\n",
    "                 \n",
    "    fig, ax = plt.subplots(1,2,figsize=(3.5,1.75),layout='constrained',sharey=True)\n",
    "    fig.get_layout_engine().set(w_pad=0.01, h_pad=0.0, wspace=0.0, hspace=0.0)\n",
    "    \n",
    "    for i in [0,1]:\n",
    "        gap_interploated=learner_gap[i].interpolated_on_grid(n=1000)\n",
    "        inv_interploated=learner_inv[i].interpolated_on_grid(n=1000)\n",
    "\n",
    "        top = inv_interploated[2] > 0\n",
    "        not_top = inv_interploated[2] < 0\n",
    "        x, y, z = gap_interploated[0], gap_interploated[1], gap_interploated[2]\n",
    "\n",
    "        z_topological = z.copy()\n",
    "        z_topological[top] = -1\n",
    "\n",
    "        z_not_topological = z.copy()\n",
    "        z_not_topological[not_top] = -1 \n",
    "\n",
    "        im1 = ax[i].contourf(x,y,z_topological.T,vmin=0,vmax=Max,levels=np.append(np.linspace(0,Max,50),1),cmap=\"Reds\")#,params_Chen,0.0025)    \n",
    "        im3 = ax[i].contourf(x,y,z_not_topological.T,vmin=0,vmax=Max,levels=np.append(np.linspace(0,Max,50),1),cmap=\"gray_r\")#,params_Chen,0.0025)\n",
    "\n",
    "        ax[i].set_xlabel(\"$M_z$ [meV]\");\n",
    "        xs = np.linspace(p_bounds[0],.01*(p_bounds[1]//.01),int((p_bounds[1]-p_bounds[0])/.01)+1)\n",
    "        ys = np.linspace(-.01-(mu_bounds[1]-mu_bounds[0])/2,.03+(mu_bounds[1]-mu_bounds[0])/2,+int((.04+mu_bounds[1]-mu_bounds[0])/.02)+1)\n",
    "        \n",
    "        ax[i].set_xticks(xs);\n",
    "        ax[i].set_yticks(ys);\n",
    "        \n",
    "        ax[i].set_ylim(min(y),max(y));\n",
    "        \n",
    "        ax[i].set_xticklabels(labels=[str(int(np.round(1e3*el,0))) for el in xs]);\n",
    "        ax[i].set_yticklabels(labels=[str(int(np.round(1e3*el,0))) for el in ys]);\n",
    "        \n",
    "        ax[i].patch.set_facecolor('white')\n",
    "            \n",
    "    ax[0].set_ylabel(\"$\\mu$ [meV]\");\n",
    "    \n",
    "    if(params['params'][0]['D'] != 0):\n",
    "        arr = mpatches.FancyArrowPatch((.02, .019), (.02, .032),\n",
    "                               arrowstyle='<->,head_width=.15', mutation_scale=20)\n",
    "        #ax[1].add_patch(arr)\n",
    "        #ax[1].annotate(\"$E_u$\", (3,0.3), xycoords=arr, ha='center', va='bottom',fontsize=fontsize)\n",
    "\n",
    "        arr = mpatches.FancyArrowPatch((.02, -.024), (.02, .013),\n",
    "                               arrowstyle='<->,head_width=.15', mutation_scale=20)\n",
    "        #ax[1].add_patch(arr)\n",
    "        #ax[1].annotate(\"$E_l$\", (3,0.5), xycoords=arr, ha='center', va='bottom',fontsize=fontsize)\n",
    "        \n",
    "        ax[1].plot([0,0.045],[0,-(params['params'][0]['m0']+0.045)*(params['params'][0]['D']/params['params'][0]['m1'])],'g--',lw=1)\n",
    "        ax[1].plot([0.04,0.04],[-1,1],'k:',lw=1)\n",
    "\n",
    "    cbar = fig.colorbar(im1, ax=ax[1],ticks=np.linspace(0,Max,5))\n",
    "    cbar2 = fig.colorbar(im3, ax=ax[1],ticks=np.linspace(0,Max,5))\n",
    "    Max_Delta = np.round(Max/params[\"delta\"][0],1)\n",
    "    cbar2.set_ticklabels( [\"\" for n in np.linspace(0,Max_Delta,5)])\n",
    "    cbar.set_ticklabels( [str(np.round(n,2))+\"$\\\\Delta$\" for n in np.linspace(0,Max_Delta,5)])\n",
    "    \n",
    "    \n",
    "\n",
    "    ax[1].text(\n",
    "            0.75, 0.45, \n",
    "            '(c)',\n",
    "            transform=ax[1].transAxes)\n",
    "\n",
    "    caption = ['(a)','(b)']\n",
    "    for i in range(len(caption)):\n",
    "        if i == 0:\n",
    "            sshift = -0.325\n",
    "        else:\n",
    "            sshift = -0.15\n",
    "        ax[i].text(\n",
    "            sshift, .985, \n",
    "            caption[i],\n",
    "            transform=ax[i].transAxes)\n",
    "    \n",
    "    if which_param == 'W':\n",
    "        plt.savefig(\"phase/phase_double_Mz\"+str(params['m_z'][0])+\"_m0\"+str(params['params'][0][\"m0\"])+\"_m1\"+str(params['params'][0][\"m1\"])+\"_Delta\"+str(params[\"delta\"][0])+\"_D\"+str(params['params'][0][\"D\"])+\"_u_B\"+str(params['params'][0]['u_B'])+\"_minp\"+str(p_bounds[0])+\"_maxp\"+str(p_bounds[1])+\".pdf\",bbox_inches='tight')\n",
    "    else:\n",
    "        plt.savefig(\"phase/phase_double_Ly\"+str(syst_W)+\"_m0\"+str(params['params'][0][\"m0\"])+\"_m1\"+str(params['params'][0][\"m1\"])+\"_Delta\"+str(params[\"delta\"][0])+\"_D\"+str(params['params'][0][\"D\"])+\"_u_B\"+str(params['params'][0]['u_B'])+\"_minp\"+str(p_bounds[0])+\"_maxp\"+str(p_bounds[1])+\".png\")\n",
    "        plt.savefig(\"phase/phase_double_Ly\"+str(syst_W)+\"_m0\"+str(params['params'][0][\"m0\"])+\"_m1\"+str(params['params'][0][\"m1\"])+\"_Delta\"+str(params[\"delta\"][0])+\"_D\"+str(params['params'][0][\"D\"])+\"_u_B\"+str(params['params'][0]['u_B'])+\"_minp\"+str(p_bounds[0])+\"_maxp\"+str(p_bounds[1])+\".pdf\",bbox_inches='tight')"
   ]
  },
  {
   "cell_type": "markdown",
   "id": "ba50d91b-530c-405b-854e-9ee0f1249328",
   "metadata": {
    "jp-MarkdownHeadingCollapsed": true,
    "tags": []
   },
   "source": [
    "## Top map"
   ]
  },
  {
   "cell_type": "code",
   "execution_count": null,
   "id": "acbb528d-dbaa-4aca-9bb0-41ce6fdd3134",
   "metadata": {},
   "outputs": [],
   "source": [
    "def create_topological_map(learner_inv,learner_gap,learner_crossings,params,Max,replot):\n",
    "    \n",
    "    if not replot:    \n",
    "        gap_interploated=learner_gap.interpolated_on_grid(n=1000)\n",
    "        inv_interploated=learner_inv.interpolated_on_grid(n=1000)\n",
    "        cross_interploated=learner_crossings.interpolated_on_grid(n=1000)\n",
    "\n",
    "        topological_one = (inv_interploated[2] > 0) | (np.round(cross_interploated[2]) != 1)\n",
    "        topological_odd = (inv_interploated[2] > 0)  | (np.round(cross_interploated[2])%2 == 0)  | (np.round(cross_interploated[2]) == 1)\n",
    "        not_topological_even = (inv_interploated[2] < 0)  | (np.round(cross_interploated[2]) == 0)#| (np.round(cross_interploated[2])%2 == 1) | (np.round(cross_interploated[2]) == 0)\n",
    "        \n",
    "        x, y, z = gap_interploated[0],gap_interploated[1],gap_interploated[2]\n",
    "        \n",
    "        z_topological_one = z.copy()\n",
    "        z_topological_one[topological_one] = -1\n",
    "        \n",
    "        z_topological_odd = z.copy()\n",
    "        z_topological_odd[topological_odd] = -1\n",
    "\n",
    "        z_not_topological_even = z.copy()\n",
    "        z_not_topological_even[not_topological_even] = -1\n",
    "    else:\n",
    "        x = np.linspace(*p_bounds,1000)        \n",
    "        y = np.linspace(*mu_bounds,1000)\n",
    "        \n",
    "        z_topological_one = z_topological_one_replot\n",
    "        z_topological_odd = z_topological_odd_replot\n",
    "        z_not_topological_even = z_not_topological_even_replot   \n",
    "\n",
    "    fig, ax = plt.subplots(2,1,figsize=(6,6),layout='constrained', height_ratios=[4,1])\n",
    "    fontsize=12\n",
    "    \n",
    "    if which_param == 'W':\n",
    "        ax[1].set_xlabel(\"$W$ [nm]\",fontsize = fontsize);\n",
    "        x = x/params['a'][0]\n",
    "    else:\n",
    "        ax[1].set_xlabel(\"$M_z$ [meV]\",fontsize = fontsize);\n",
    "        x = x*1e3\n",
    "    \n",
    "\n",
    "    im2 = ax[0].contourf(x,y,z_topological_odd.T,vmin=0,vmax=Max,levels=np.append(np.linspace(0,Max,50),1),cmap=\"Blues\")#,params_Chen,0.0025)    \n",
    "    im1 = ax[0].contourf(x,y,z_topological_one.T,vmin=0,vmax=Max,levels=np.append(np.linspace(0,Max,50),1),cmap=\"Reds\")#,params_Chen,0.0025)    \n",
    "    im3 = ax[0].contourf(x,y,z_not_topological_even.T,vmin=0,vmax=Max,levels=np.append(np.linspace(0,Max,50),1),cmap=\"gray_r\")#,params_Chen,0.0025)\n",
    "\n",
    "    cbar = fig.colorbar(im1, ax=ax[0],ticks=np.linspace(0,Max,5))\n",
    "    Max_Delta = np.round(Max/params[\"delta\"][0],1)\n",
    "    cbar.set_ticklabels( [str(np.round(n,2))+\"$\\\\Delta$\" for n in np.linspace(0,Max_Delta,5)],fontsize=fontsize)\n",
    "\n",
    "    ax[0].set_ylabel(\"$\\mu$ [meV]\", fontsize=fontsize);\n",
    "    ys = np.linspace(mu_bounds[0],mu_bounds[1],int((mu_bounds[1]-mu_bounds[0])/.02)+1)\n",
    "    ax[0].set_yticks(ys);\n",
    "    ax[0].set_ylim(*mu_bounds);\n",
    "\n",
    "    ax[0].set_yticklabels(labels=[str(int(np.round(1e3*el,0))) for el in ys], fontsize=fontsize);\n",
    "\n",
    "    delta_ind_1 = np.zeros(len(x))        \n",
    "    delta_ind_t = np.zeros(len(x))\n",
    "    delta_ind_nt = np.zeros(len(x))\n",
    "\n",
    "    for i in range(len(x)):\n",
    "        delta_ind_1[i]  = np.average(z_topological_one[i]    [z_topological_one[i]    !=-1])        \n",
    "        delta_ind_t[i]  = np.average(z_topological_odd[i]    [z_topological_odd[i]    !=-1])\n",
    "        delta_ind_nt[i] = np.average(z_not_topological_even[i][z_not_topological_even[i]!=-1])\n",
    "        \n",
    "    ax[1].plot(x,delta_ind_1 /params[\"delta\"][0] ,\"r-\",label='Top. $N=1$')\n",
    "    ax[1].plot(x,delta_ind_t /params[\"delta\"][0] ,\"b-\",label='Top. $N>1$')\n",
    "    ax[1].plot(x,delta_ind_nt/params[\"delta\"][0],\"k-\",label='Triv. $N>0$')\n",
    "\n",
    "    ax[1].set_xlim(min(x),max(x))\n",
    "    ax[1].set_ylim(0,max(delta_ind_nt/params[\"delta\"][0])*1.05)\n",
    "    ax[1].set_ylabel('$\\Delta_{ind}~[\\Delta]$', fontsize=fontsize);\n",
    "    ax[1].legend(frameon=True,fontsize=8,loc='upper right');\n",
    "    \n",
    "    ax[0].patch.set_facecolor('white')\n",
    "    \n",
    "    if which_param == 'W':\n",
    "        ax[0].set_title(\"$M_z=\"+str(params['m_z'][0])+\"~eV,~m_0=\"+str(params['params'][0]['m0'])+\"~eV,~m_1=\"+str(params['params'][0][\"m1\"])+\"~eV\\AA^2,$\\n $\\Delta=\"+str(params[\"delta\"][0])+\"~eV~,D=\"+str(params['params'][0][\"D\"])+\"~eV\\AA^2~,u_B=\"+str(params['params'][0]['u_B'])+\"~eV$\", fontsize=fontsize);        \n",
    "        plt.savefig(\"phase/phase_Mz\"+str(params['m_z'][0])+\"_m0\"+str(params['params'][0][\"m0\"])+\"_m1\"+str(params['params'][0][\"m1\"])+\"_Delta\"+str(params[\"delta\"][0])+\"_D\"+str(params['params'][0][\"D\"])+\"_u_B\"+str(params['params'][0]['u_B'])+\"_minp\"+str(p_bounds[0])+\"_maxp\"+str(p_bounds[1])+\".png\" )        \n",
    "    else:\n",
    "        ax[0].set_title(\"$L_y=\"+str(syst_W)+\"~\\AA,~m_0=\"+str(params['params'][0][\"m0\"])+\"~eV,~m_1=\"+str(params['params'][0][\"m1\"])+\"~eV\\AA^2,$\\n $\\Delta=\"+str(params[\"delta\"][0])+\"~eV~,D=\"+str(params['params'][0][\"D\"])+\"~eV\\AA^2~,u_B=\"+str(params['params'][0]['u_B'])+\"~eV$\", fontsize=fontsize);\n",
    "        plt.savefig(\"phase/phase_Ly\"+str(syst_W)+\"_m0\"+str(params['params'][0][\"m0\"])+\"_m1\"+str(params['params'][0][\"m1\"])+\"_Delta\"+str(params[\"delta\"][0])+\"_D\"+str(params['params'][0][\"D\"])+\"_u_B\"+str(params['params'][0]['u_B'])+\"_minp\"+str(p_bounds[0])+\"_maxp\"+str(p_bounds[1])+\".png\" )     \n",
    "\n",
    "    if not replot:\n",
    "        if which_param == 'W':\n",
    "            np.save( arr=[z_topological_one, z_topological_odd,z_not_topological_even], file=\"phase/phase_Mz\"+str(params['m_z'][0])+\"_m0\"+str(params['params'][0][\"m0\"])+\"_m1\"+str(params['params'][0][\"m1\"])+\"_Delta\"+str(params[\"delta\"][0])+\"_D\"+str(params['params'][0][\"D\"])+\"_u_B\"+str(params['params'][0]['u_B'])+\"_minp\"+str(p_bounds[0])+\"_maxp\"+str(p_bounds[1])+\".npy\" )        \n",
    "        else:\n",
    "            np.save( arr=[z_topological_one, z_topological_odd,z_not_topological_even], file=\"phase/phase_Ly\"+str(syst_W)+\"_m0\"+str(params['params'][0][\"m0\"])+\"_m1\"+str(params['params'][0][\"m1\"])+\"_Delta\"+str(params[\"delta\"][0])+\"_D\"+str(params['params'][0][\"D\"])+\"_u_B\"+str(params['params'][0]['u_B'])+\"_minp\"+str(p_bounds[0])+\"_maxp\"+str(p_bounds[1])+\".npy\" )        \n"
   ]
  },
  {
   "cell_type": "markdown",
   "id": "dce6ba75-555d-4ac5-b05f-658e3184d126",
   "metadata": {
    "jp-MarkdownHeadingCollapsed": true,
    "tags": []
   },
   "source": [
    "## Gaps"
   ]
  },
  {
   "cell_type": "code",
   "execution_count": null,
   "id": "5ea1c452-1c23-4d25-81b4-2e22d9e7146e",
   "metadata": {},
   "outputs": [],
   "source": [
    "def create_gaps_topological_map(learner_inv,learner_gap,learner_crossings,params,Max,replot):\n",
    "    \n",
    "    if not replot:    \n",
    "        gap_interploated=learner_gap.interpolated_on_grid(n=1000)\n",
    "        cross_interploated=learner_crossings.interpolated_on_grid(n=1000)\n",
    "\n",
    "        gapped = (np.round(cross_interploated[2]) == 0)\n",
    "        \n",
    "        x, y, z = gap_interploated[0],gap_interploated[1],gap_interploated[2]\n",
    "        \n",
    "        z[gapped] = -1\n",
    "        \n",
    "        x_points, y_points = learner_gap.to_dataframe()['x'], learner_gap.to_dataframe()['y']\n",
    "        extra_data = learner_gap.to_dataframe()['extra_data']\n",
    "        gap_2,gap_3 = [],[]\n",
    "        for i in range(len(extra_data)):\n",
    "            gaps = extra_data[i]['gaps'][(extra_data[i]['gaps']<params['delta'][0]/2)&(~np.isnan(extra_data[i]['gaps']))]\n",
    "            if len(gaps) < 2:\n",
    "                gap_2.append(-1)\n",
    "            else:\n",
    "                gap_2.append(np.sort(gaps)[1])\n",
    "            if len(gaps) < 2:\n",
    "                gap_3.append(-1)\n",
    "            else:\n",
    "                gap_3.append(np.mean(gaps[1:]))               \n",
    "        points, values = learner_gap._data_in_bounds()\n",
    "        xx, yy = np.meshgrid(x,y)\n",
    "        \n",
    "        ip2 = LinearNDInterpolator(np.vstack([x_points,y_points]).T,gap_2,rescale=True)\n",
    "        ip3 = LinearNDInterpolator(np.vstack([x_points,y_points]).T,gap_3,rescale=True)\n",
    "        z2 = ip2(xx,yy).T\n",
    "        z3 = ip3(xx,yy).T\n",
    "        \n",
    "        z2[z2 < 0], z3[z3 < 0] = -1, -1\n",
    "        z2[(np.round(cross_interploated[2]) < 2)] = -1\n",
    "        z3[(np.round(cross_interploated[2]) < 2)] = -1\n",
    "                \n",
    "    else:\n",
    "        x = np.linspace(*p_bounds,1000)        \n",
    "        y = np.linspace(*mu_bounds,1000)\n",
    "        \n",
    "        z = z_replot\n",
    "\n",
    "    fig, ax = plt.subplots(2,3,figsize=(10,5),layout='constrained', height_ratios=[4,1],width_ratios=[1,1,1],sharex='row',sharey='row')\n",
    "    fontsize=12\n",
    "    \n",
    "    if which_param == 'W':\n",
    "        ax[1,0].set_xlabel(\"$W$ [nm]\",fontsize = fontsize);\n",
    "        ax[1,1].set_xlabel(\"$W$ [nm]\",fontsize = fontsize);\n",
    "        ax[1,2].set_xlabel(\"$W$ [nm]\",fontsize = fontsize);\n",
    "        x = x/params['a'][0]\n",
    "    else:\n",
    "        ax[1,0].set_xlabel(\"$M_z$ [meV]\",fontsize = fontsize);\n",
    "        ax[1,1].set_xlabel(\"$M_z$ [meV]\",fontsize = fontsize);\n",
    "        ax[1,2].set_xlabel(\"$M_z$ [meV]\",fontsize = fontsize);\n",
    "        x = x*1e3        \n",
    "    \n",
    "    im1 = ax[0,0].contourf(x,y,z.T,vmin=0,vmax=Max,levels=np.append(np.linspace(0,Max,50),1),cmap=\"Reds\")#,params_Chen,0.0025)\n",
    "    im2 = ax[0,1].contourf(x,y,z2.T,vmin=0,vmax=Max,levels=np.append(np.linspace(0,Max,50),1),cmap=\"Blues\")#,params_Chen,0.0025)\n",
    "    im3 = ax[0,2].contourf(x,y,z3.T,vmin=0,vmax=Max,levels=np.append(np.linspace(0,Max,50),1),cmap=\"Greens\")#,params_Chen,0.0025)\n",
    "    cbar = fig.colorbar(im1, ax=ax[0],ticks=np.linspace(0,Max,5))\n",
    "    Max_Delta = np.round(Max/params[\"delta\"][0],1)\n",
    "    cbar.set_ticklabels( [str(np.round(n,2))+\"$\\\\Delta$\" for n in np.linspace(0,Max_Delta,5)],fontsize=fontsize)\n",
    "\n",
    "    ax[0,0].set_ylabel(\"$\\mu$ [meV]\", fontsize=fontsize);\n",
    "    ys = np.linspace(mu_bounds[0],mu_bounds[1],int((mu_bounds[1]-mu_bounds[0])/.02)+1)\n",
    "    ax[0,0].set_yticks(ys);\n",
    "    ax[0,0].set_ylim(*mu_bounds);\n",
    "    ax[0,0].set_yticklabels(labels=[str(int(np.round(1e3*el,0))) for el in ys], fontsize=fontsize);\n",
    "\n",
    "    delta_ind,delta_ind2,delta_ind3 = np.zeros(len(x)), np.zeros(len(x)), np.zeros(len(x))        \n",
    "    \n",
    "    for i in range(len(x)):\n",
    "        delta_ind[i]  = np.average(z[i] [z[i] !=-1])        \n",
    "        delta_ind2[i] = np.average(z2[i] [z2[i] !=-1])        \n",
    "        delta_ind3[i] = np.average(z3[i] [z3[i] !=-1]) \n",
    "        \n",
    "    ax[0,0].set_title(\"Smallest gap\")\n",
    "    ax[0,1].set_title(\"2nd smallest gap\")\n",
    "    ax[0,2].set_title(\"Avg. gap (w/out smallest)\")\n",
    "    \n",
    "    ax[1,0].plot(x,delta_ind /params[\"delta\"][0] ,\"r-\")\n",
    "    ax[1,1].plot(x,delta_ind2 /params[\"delta\"][0] ,\"b-\")\n",
    "    ax[1,2].plot(x,delta_ind3 /params[\"delta\"][0] ,\"g-\")\n",
    "\n",
    "    ax[1,0].set_xlim(min(x),max(x))\n",
    "    ax[1,0].set_ylim(0,max([max(delta_ind),max(delta_ind2),max(delta_ind3)])/params[\"delta\"][0]*1.05)\n",
    "    ax[1,0].set_ylabel('$\\Delta_{ind}~[\\Delta]$', fontsize=fontsize);\n",
    "\n",
    "#    ax[1,0].legend(frameon=True,fontsize=7,loc='upper right');\n",
    "    \n",
    "    ax[0,0].patch.set_facecolor('white')\n",
    "    \n",
    "    if which_param == 'W':\n",
    "        fig.suptitle(\"$M_z=\"+str(params['m_z'][0])+\"~eV,~m_0=\"+str(params['params'][0]['m0'])+\"~eV,~m_1=\"+str(params['params'][0][\"m1\"])+\"~eV\\AA^2,\\Delta=\"+str(params[\"delta\"][0])+\"~eV~,D=\"+str(params['params'][0][\"D\"])+\"~eV\\AA^2~,u_B=\"+str(params['params'][0]['u_B'])+\"~eV$\", fontsize=fontsize);        \n",
    "        plt.savefig(\"phase/phase_gaps_Mz\"+str(params['m_z'][0])+\"_m0\"+str(params['params'][0][\"m0\"])+\"_m1\"+str(params['params'][0][\"m1\"])+\"_Delta\"+str(params[\"delta\"][0])+\"_D\"+str(params['params'][0][\"D\"])+\"_u_B\"+str(params['params'][0]['u_B'])+\"_minp\"+str(p_bounds[0])+\"_maxp\"+str(p_bounds[1])+\".png\" )        \n",
    "    else:\n",
    "        fig.suptitle(\"$L_y=\"+str(syst_W)+\"~\\AA,~m_0=\"+str(params['params'][0][\"m0\"])+\"~eV,~m_1=\"+str(params['params'][0][\"m1\"])+\"~eV\\AA^2,\\Delta=\"+str(params[\"delta\"][0])+\"~eV~,D=\"+str(params['params'][0][\"D\"])+\"~eV\\AA^2~,u_B=\"+str(params['params'][0]['u_B'])+\"~eV$\", fontsize=fontsize);\n",
    "        plt.savefig(\"phase/phase_gaps_Ly\"+str(syst_W)+\"_m0\"+str(params['params'][0][\"m0\"])+\"_m1\"+str(params['params'][0][\"m1\"])+\"_Delta\"+str(params[\"delta\"][0])+\"_D\"+str(params['params'][0][\"D\"])+\"_u_B\"+str(params['params'][0]['u_B'])+\"_minp\"+str(p_bounds[0])+\"_maxp\"+str(p_bounds[1])+\".png\" )\n",
    "\n",
    "    if not replot:\n",
    "        if which_param == 'W':\n",
    "            np.save( arr=[z], file=\"phase/phase_gaps_Mz\"+str(params['m_z'][0])+\"_m0\"+str(params['params'][0][\"m0\"])+\"_m1\"+str(params['params'][0][\"m1\"])+\"_Delta\"+str(params[\"delta\"][0])+\"_D\"+str(params['params'][0][\"D\"])+\"_u_B\"+str(params['params'][0]['u_B'])+\"_minp\"+str(p_bounds[0])+\"_maxp\"+str(p_bounds[1])+\".npy\" )        \n",
    "        else:\n",
    "            np.save( arr=[z], file=\"phase/phase_gaps_Ly\"+str(syst_W)+\"_m0\"+str(params['params'][0][\"m0\"])+\"_m1\"+str(params['params'][0][\"m1\"])+\"_Delta\"+str(params[\"delta\"][0])+\"_D\"+str(params['params'][0][\"D\"])+\"_u_B\"+str(params['params'][0]['u_B'])+\"_minp\"+str(p_bounds[0])+\"_maxp\"+str(p_bounds[1])+\".npy\" )        "
   ]
  },
  {
   "cell_type": "markdown",
   "id": "473dabda-99b6-4913-a4fb-d6ffe6a78849",
   "metadata": {
    "jp-MarkdownHeadingCollapsed": true,
    "tags": []
   },
   "source": [
    "## Plotting"
   ]
  },
  {
   "cell_type": "code",
   "execution_count": null,
   "id": "09662328-07b6-48d3-a591-6262cd1f7911",
   "metadata": {},
   "outputs": [],
   "source": [
    "#qa_top.learner.learners[0].interpolated_on_grid()"
   ]
  },
  {
   "cell_type": "code",
   "execution_count": null,
   "id": "23c00612-17b6-4750-aa61-9d1887b37a44",
   "metadata": {},
   "outputs": [],
   "source": [
    "#qa_top.learner.learners[0].to_dataframe()['extra_data'][0]['gaps']"
   ]
  },
  {
   "cell_type": "code",
   "execution_count": null,
   "id": "97609ce3-abcd-4367-8dcc-975e7680a56c",
   "metadata": {},
   "outputs": [],
   "source": [
    "linv=qa_mn.learner.learners[0]\n",
    "lgap=qa_top.learner.learners[0]"
   ]
  },
  {
   "cell_type": "code",
   "execution_count": null,
   "id": "8a42a82a-cd1f-44d6-af7c-9b7f06af88a5",
   "metadata": {},
   "outputs": [],
   "source": [
    "create_topological_simple(qa_mn.learner.learners[0],qa_top.learner.learners[0],params_2D,0.001*.4,False)"
   ]
  },
  {
   "cell_type": "code",
   "execution_count": null,
   "id": "5bf54e21-cc96-48cf-80d7-f12fd671d930",
   "metadata": {},
   "outputs": [],
   "source": [
    "create_topological_double(linv,lgap,qa_mn.learner.learners[0],qa_top.learner.learners[0],params_2D,0.001*.4)"
   ]
  },
  {
   "cell_type": "code",
   "execution_count": null,
   "id": "9baeee1f-ffc0-4f78-b6c9-b29fcc281e0b",
   "metadata": {},
   "outputs": [],
   "source": [
    "create_gaps_topological_map(qa_mn.learner.learners[0],qa_top.learner.learners[0],qa_ph.learner.learners[0],params_2D,0.001*.4,False)"
   ]
  },
  {
   "cell_type": "code",
   "execution_count": null,
   "id": "e659cedb-fde7-403b-bff4-3f2bc376b212",
   "metadata": {},
   "outputs": [],
   "source": [
    "thres1 = 50\n",
    "thres2 = 0.001\n",
    "data = qa_top.learner.learners[0].to_dataframe()\n",
    "for i in range(len(data)):\n",
    "    if( abs(data['x'][i] - 1000) < thres1 and abs(data['y'][i] - 0) < thres2):\n",
    "        print(i,data['extra_data'][i]['gap']/params_2D['delta'][0])"
   ]
  },
  {
   "cell_type": "code",
   "execution_count": null,
   "id": "3acd2a54-e4ff-439c-98f0-e4480403bec9",
   "metadata": {},
   "outputs": [],
   "source": [
    "ii = 1132"
   ]
  },
  {
   "cell_type": "code",
   "execution_count": null,
   "id": "b9566254-c475-4a0d-80a5-7cad0843faf4",
   "metadata": {},
   "outputs": [],
   "source": [
    "data['extra_data'][ii]['gap']#.keys()"
   ]
  },
  {
   "cell_type": "code",
   "execution_count": null,
   "id": "269d3e63-9ffc-447f-ba8a-901b8534fd40",
   "metadata": {},
   "outputs": [],
   "source": [
    "data['x'][ii], data['y'][ii]"
   ]
  },
  {
   "cell_type": "code",
   "execution_count": null,
   "id": "7b837e1f-f417-4668-9a9f-9368d615b1ae",
   "metadata": {},
   "outputs": [],
   "source": [
    "print(data['extra_data'][ii]['momenta_cros'])\n",
    "print(data['extra_data'][ii]['momenta_gap'])\n",
    "print(data['extra_data'][ii]['gaps'])\n",
    "print(data['extra_data'][ii]['gap']/0.001)"
   ]
  },
  {
   "cell_type": "code",
   "execution_count": null,
   "id": "28ca375e-f21c-431e-bc93-632bf19ad616",
   "metadata": {},
   "outputs": [],
   "source": [
    "executor = client.executor()"
   ]
  },
  {
   "cell_type": "code",
   "execution_count": null,
   "id": "ee2faea5-da7c-4f5b-a486-ea0d2c266b51",
   "metadata": {},
   "outputs": [],
   "source": [
    "job = executor.submit(funcs.gap_search_k, a=10, a_z=10, T=1, W=data['x'][ii], mu=data['y'][ii], m_z=2*M0, delta=0.001, h_mode=1, params=params_Chen)"
   ]
  },
  {
   "cell_type": "code",
   "execution_count": null,
   "id": "f6c0e246-a9ea-4c3a-bfff-e9f6b97996f1",
   "metadata": {},
   "outputs": [],
   "source": [
    "res = job.result()"
   ]
  },
  {
   "cell_type": "code",
   "execution_count": null,
   "id": "74b4a8ac-7b41-463f-9689-68966af10354",
   "metadata": {},
   "outputs": [],
   "source": [
    "E_k0, wfs_k0, rhos = res"
   ]
  },
  {
   "cell_type": "code",
   "execution_count": null,
   "id": "b83ff02a-53c2-4d48-ba96-8010addaf23c",
   "metadata": {},
   "outputs": [],
   "source": [
    "plt.plot(np.ones(len(E_k0)), E_k0, \"x\")\n",
    "plt.ylim(-0.001,0.001)"
   ]
  },
  {
   "cell_type": "code",
   "execution_count": null,
   "id": "2c6f8857-bc69-4f26-aa00-1a1cb56ec238",
   "metadata": {},
   "outputs": [],
   "source": [
    "E_k0 = E_k0.real\n",
    "#wfs_k0 = wfs_k0[:, E_k0 > 0]\n",
    "#E_k0 = E_k0[E_k0 > 0]\n",
    "rhos_p_k0 = np.array([rhos['p'](wf) for wf in wfs_k0.T])\n",
    "rhos_h_k0 = np.array([rhos['h'](wf) for wf in wfs_k0.T])\n",
    "densitys_ph = rhos_p_k0 - rhos_h_k0\n",
    "fist_h_band_index = np.argmax(densitys_ph > 0)\n",
    "fist_h_band_E = E_k0[fist_h_band_index]"
   ]
  },
  {
   "cell_type": "code",
   "execution_count": null,
   "id": "24a6af7d-0c8c-40ef-88db-156f29182c66",
   "metadata": {},
   "outputs": [],
   "source": [
    "plt.plot(densitys_ph,E_k0,\"x\")\n",
    "#plt.ylim(-0.003,0.003)\n",
    "plt.plot([-1,1],[0,0],\"k--\")\n",
    "plt.ylabel(\"E [eV]\")\n",
    "plt.xlabel(\"densitys_ph\")"
   ]
  },
  {
   "cell_type": "code",
   "execution_count": null,
   "id": "dbe3465a-b101-4df9-a0c6-4d890c23d99b",
   "metadata": {},
   "outputs": [],
   "source": [
    "print(res['momenta_cros'])\n",
    "print(res['momenta_gap'])\n",
    "print(res['gaps'])\n",
    "print(res['gap'])"
   ]
  },
  {
   "cell_type": "code",
   "execution_count": null,
   "id": "d81b3ac6-70fa-4ab3-b792-bf2c4f1acc69",
   "metadata": {},
   "outputs": [],
   "source": [
    "import systems\n",
    "import kwant"
   ]
  },
  {
   "cell_type": "code",
   "execution_count": null,
   "id": "12266433-0297-48d9-9b95-699dbde8230a",
   "metadata": {},
   "outputs": [],
   "source": [
    "W = 20\n",
    "T = 30\n",
    "a = 10\n",
    "lead2 = systems.make_lead(\n",
    "        a, 1, W, 1, L=0, ph_symmetry = False,\n",
    "        conservation_law=None, directions='x',ham_type='2D')"
   ]
  },
  {
   "cell_type": "code",
   "execution_count": null,
   "id": "e08d91de-8a2f-4d76-a181-9eda6ed8c946",
   "metadata": {},
   "outputs": [],
   "source": [
    "lead_f = lead.finalized()"
   ]
  },
  {
   "cell_type": "code",
   "execution_count": null,
   "id": "c3da7774-3c4d-4320-b1f6-888ddc8e4d19",
   "metadata": {},
   "outputs": [],
   "source": [
    "Ham = lead_f.hamiltonian_submatrix(params=dict(hbar=1,v_F=3,D=0,delta=0,m0=1,m1=1,m_z=0,mu_ti=0))"
   ]
  },
  {
   "cell_type": "code",
   "execution_count": null,
   "id": "afa88954-1bf0-41f9-8c1a-7898e889c6bf",
   "metadata": {},
   "outputs": [],
   "source": [
    "len(Ham[0])"
   ]
  },
  {
   "cell_type": "code",
   "execution_count": null,
   "id": "d4f9f16b-1ba5-4ffa-8ece-c5c5506d25c6",
   "metadata": {},
   "outputs": [],
   "source": [
    "lead_f.id_by_site"
   ]
  },
  {
   "cell_type": "code",
   "execution_count": null,
   "id": "313f1d96-e5e5-4dfb-aa20-8cbf0ae4c5b0",
   "metadata": {},
   "outputs": [],
   "source": [
    "#lead_f.inter_cell_hopping(params=dict(hbar=1,v_F=3,D=0,delta=0,m0=1,m1=1,m_z=0,mu_ti=0))"
   ]
  },
  {
   "cell_type": "code",
   "execution_count": null,
   "id": "c4c13cd5-16a0-4118-b57e-ac689c4eb4f5",
   "metadata": {},
   "outputs": [],
   "source": [
    "lead_f.hamiltonian(1,0,params=dict(hbar=1,v_F=3,D=1,delta=0,m0=0.3,m1=1,m_z=0,mu_ti=0))"
   ]
  },
  {
   "cell_type": "code",
   "execution_count": null,
   "id": "7a3128a5-59a7-4e7b-910d-ddc8348a8569",
   "metadata": {},
   "outputs": [],
   "source": [
    "lead_f.hamiltonian(0,1,params=dict(hbar=1,v_F=3,D=0,delta=0,m0=2,m1=2,m_z=0,mu_ti=0))"
   ]
  },
  {
   "cell_type": "code",
   "execution_count": null,
   "id": "4281a37c-d076-45de-b93f-a724ae59a642",
   "metadata": {},
   "outputs": [],
   "source": [
    "lead"
   ]
  },
  {
   "cell_type": "code",
   "execution_count": null,
   "id": "dac3f6fd-4771-43c2-ab22-75f9ee0b3bdb",
   "metadata": {},
   "outputs": [],
   "source": [
    "reload()"
   ]
  },
  {
   "cell_type": "code",
   "execution_count": null,
   "id": "299d2599-85a3-4283-ae62-a31e0019c0ed",
   "metadata": {},
   "outputs": [],
   "source": [
    "W = 12\n",
    "T = 12\n",
    "a = 4\n",
    "lead2 = systems.make_lead(\n",
    "        a, 1, W, T, L=0, ph_symmetry = False,\n",
    "        conservation_law=None, directions='x',ham_type='2D_sides')"
   ]
  },
  {
   "cell_type": "code",
   "execution_count": null,
   "id": "c22cc3c8-cf39-4b56-b934-0497a5f2329c",
   "metadata": {},
   "outputs": [],
   "source": [
    "def get_where_side():\n",
    "    def where_side(site,a,W,T):\n",
    "        left_edge = (T-a)/2\n",
    "        right_edge = W + (T-a)/2\n",
    "        return left_edge <= site.pos[1] <= right_edge\n",
    "    return where_side"
   ]
  },
  {
   "cell_type": "code",
   "execution_count": null,
   "id": "ec9327f1-469b-4817-8a6e-7c90182797dd",
   "metadata": {},
   "outputs": [],
   "source": [
    "lead2_f = lead2.finalized()"
   ]
  },
  {
   "cell_type": "code",
   "execution_count": null,
   "id": "c9a9701e-f555-4d7d-9185-f473d0afb383",
   "metadata": {},
   "outputs": [],
   "source": [
    "#kwant.plotter.set_engine(\"plotly\")\n",
    "kwant.plotter.set_engine(\"matplotlib\")\n",
    "import matplotlib.pyplot as plt, matplotlib.backends\n",
    "plot = kwant.plot(lead2, show=False)\n",
    "plot.show()"
   ]
  },
  {
   "cell_type": "code",
   "execution_count": null,
   "id": "33da7f0e-01a4-4a51-983e-100c3e050bc4",
   "metadata": {},
   "outputs": [],
   "source": [
    "list(lead2.sites())"
   ]
  },
  {
   "cell_type": "code",
   "execution_count": null,
   "id": "bd687359-3223-4e0d-9ac1-68e83faffd67",
   "metadata": {},
   "outputs": [],
   "source": [
    "lead2.H#[list(lead2.sites())[0],list(lead2.sites())[1]]"
   ]
  },
  {
   "cell_type": "code",
   "execution_count": null,
   "id": "5609741f-1d3c-4380-ae1a-0d561a26cdf7",
   "metadata": {},
   "outputs": [],
   "source": [
    "lead2[list(lead2.sites())[1]]"
   ]
  },
  {
   "cell_type": "code",
   "execution_count": null,
   "id": "95730bad-0178-4124-bd14-dc6ae298ef56",
   "metadata": {},
   "outputs": [],
   "source": [
    "pparams = dict(hbar=1,v_F=3,D=1,delta=0,m0=0.3,m1=1,m_z=0,mu_ti=0,where_side=get_where_side(),W=W,T=T,a=a)"
   ]
  },
  {
   "cell_type": "code",
   "execution_count": null,
   "id": "79648f05-acff-42c4-a916-cbaddc73851c",
   "metadata": {},
   "outputs": [],
   "source": [
    "lead2_f.sites"
   ]
  },
  {
   "cell_type": "code",
   "execution_count": null,
   "id": "08e26354-9bff-4b40-9dda-696a0c6aa76b",
   "metadata": {},
   "outputs": [],
   "source": [
    "lead2_f.hamiltonian_submatrix(params=pparams) = 0"
   ]
  },
  {
   "cell_type": "code",
   "execution_count": null,
   "id": "cddb20a7-ca0c-4722-a39b-3b194dc192a2",
   "metadata": {},
   "outputs": [],
   "source": [
    "for i in range(6):\n",
    "    print(lead2_f.hamiltonian(i,i,params=pparams))"
   ]
  },
  {
   "cell_type": "code",
   "execution_count": null,
   "id": "648d3186-cb54-40f1-98a8-204cf5d29ae9",
   "metadata": {},
   "outputs": [],
   "source": [
    "lead2_f.cell_hamiltonian(params=pparams)[1]"
   ]
  },
  {
   "cell_type": "code",
   "execution_count": null,
   "id": "ceb096fe-5ccc-4ac3-b154-421400f201c8",
   "metadata": {},
   "outputs": [],
   "source": [
    "lead2_f.hamiltonian_submatrix(params=pparams)[:4,:4] = np.array([[-0.04+0.j,  0,  0.  +0.j,  0.  +0.j],\n",
    "       [ 0.26+0.j, -0.04+0.j,  0.  +0.j,  0.  +0.j],\n",
    "       [ 0.  +0.j,  0.  +0.j, -0.04+0.j,  0.26+0.j],\n",
    "       [ 0.  +0.j,  0.  +0.j,  0.26+0.j, -0.04+0.j]])"
   ]
  },
  {
   "cell_type": "code",
   "execution_count": null,
   "id": "36a9d3fa-8cb6-4045-bc9c-e1f868949cdb",
   "metadata": {},
   "outputs": [],
   "source": [
    "lead2_f.hamiltonian_submatrix(params=pparams)[:4,:4]"
   ]
  },
  {
   "cell_type": "code",
   "execution_count": null,
   "id": "ac2203a0-1291-4dd6-8df8-ecb1add60a9c",
   "metadata": {},
   "outputs": [],
   "source": [
    "for i in range(4):\n",
    "    print(lead_f.hamiltonian(i,i+1,params=pparams))"
   ]
  },
  {
   "cell_type": "code",
   "execution_count": null,
   "id": "bb4d4871-27d1-42cb-8cb5-a06f6dd2d3d7",
   "metadata": {},
   "outputs": [],
   "source": []
  }
 ],
 "metadata": {
  "kernelspec": {
   "display_name": "Python 3.10 (kwant-latest)",
   "language": "python",
   "name": "base"
  },
  "language_info": {
   "codemirror_mode": {
    "name": "ipython",
    "version": 3
   },
   "file_extension": ".py",
   "mimetype": "text/x-python",
   "name": "python",
   "nbconvert_exporter": "python",
   "pygments_lexer": "ipython3",
   "version": "3.10.6"
  }
 },
 "nbformat": 4,
 "nbformat_minor": 5
}
